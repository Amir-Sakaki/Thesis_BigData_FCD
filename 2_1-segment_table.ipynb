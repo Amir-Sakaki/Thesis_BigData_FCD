{
 "cells": [
  {
   "cell_type": "code",
   "execution_count": 1,
   "id": "senior-bridge",
   "metadata": {},
   "outputs": [],
   "source": [
    "from pyspark.sql import functions as F\n",
    "import matplotlib.pyplot as plt\n",
    "from pyspark.sql.types import *\n",
    "import seaborn as sns\n",
    "import pandas as pd\n",
    "import numpy as np\n",
    "import geopy.distance\n",
    "import matplotlib\n",
    "import datetime\n",
    "import os\n",
    "\n",
    "import fastplot\n",
    "%matplotlib inline"
   ]
  },
  {
   "cell_type": "code",
   "execution_count": 2,
   "id": "divine-marina",
   "metadata": {},
   "outputs": [],
   "source": [
    "#schema of initial data \n",
    "schema_inital_segment = 'idRequest string, deviceId string, dateTime timestamp, \\\n",
    "latitude double, longitude double, speedKmh Integer, heading Integer,\\\n",
    "accuracyDrop Integer, EngineStatus Integer, Type Integer, segmentDistance double,\\\n",
    "segmentDuration double, segmentSpeedKmH double'\n",
    "#reading csv\n",
    "path = os.path.abspath(os.getcwd())\n",
    "df = spark.read.csv('file:///%s/all_merged/*'%path,sep=\",\", schema = schema_inital_segment)"
   ]
  },
  {
   "cell_type": "markdown",
   "id": "alpine-regard",
   "metadata": {},
   "source": [
    "<h2>1-reading input data to create the segment table</h2>"
   ]
  },
  {
   "cell_type": "code",
   "execution_count": 3,
   "id": "dated-jonathan",
   "metadata": {},
   "outputs": [
    {
     "data": {
      "text/plain": [
       "333631879"
      ]
     },
     "execution_count": 3,
     "metadata": {},
     "output_type": "execute_result"
    }
   ],
   "source": [
    "#dateTime format\n",
    "df = df.withColumn('dateTime', F.to_timestamp('dateTime'))\n",
    "df.count()"
   ]
  },
  {
   "cell_type": "markdown",
   "id": "remarkable-moscow",
   "metadata": {},
   "source": [
    "<h2>2-making segment table</h2>"
   ]
  },
  {
   "cell_type": "code",
   "execution_count": 4,
   "id": "cheap-nowhere",
   "metadata": {},
   "outputs": [],
   "source": [
    "schema_segment_inital ='deviceId String,\\\n",
    "                      type Integer,\\\n",
    "                      dateTime string,\\\n",
    "                      startLatitude double,\\\n",
    "                      startLongitude double,\\\n",
    "                      startEngineStatus Integer,\\\n",
    "                      startAccuracyDrop Integer,\\\n",
    "                      endAccuracyDrop Integer,\\\n",
    "                      endEngineStatus Integer,\\\n",
    "                      endLatitude double,\\\n",
    "                      endLongitude double,\\\n",
    "                      segmentDistance double,\\\n",
    "                      segmentDuration double,\\\n",
    "                      segmentSpeedKmH double'\n",
    "\n",
    "@F.pandas_udf(schema_segment_inital, functionType=F.PandasUDFType.GROUPED_MAP)\n",
    "def segment_table_maker(df):\n",
    "    os.environ[\"ARROW_PRE_0_15_IPC_FORMAT\"] = \"1\"\n",
    "    df = df.sort_values(by=\"dateTime\")\n",
    "    df.reset_index(inplace=True)\n",
    "    df_segment_temp=pd.DataFrame()\n",
    "\n",
    "    '''Creating empty lists for columns '''\n",
    "    deviceId = []; dateTime = []; \n",
    "    startLat = []; startLon = [];startEngineStatus = [];startAccuracyDrop = [];\n",
    "    endLat = [];endLon = [];endEngineStatus = [];endAccuracyDrop = [];\n",
    "    distance = [];duration = [];speed = [];\n",
    "    Type = df['Type'][0]\n",
    "    for index,row in df.iterrows():\n",
    "        if index == 0:\n",
    "            pass\n",
    "        else:\n",
    "            deviceId.append(row['deviceId'])\n",
    "            dateTime.append(str(df.loc[index-1,'dateTime']))\n",
    "            startLat.append(df.loc[index-1,'latitude'])\n",
    "            startLon.append(df.loc[index-1,'longitude'])\n",
    "            startEngineStatus.append(df.loc[index-1,'EngineStatus'])\n",
    "            startAccuracyDrop.append(df.loc[index-1,'accuracyDrop'])\n",
    "            endLat.append(row['latitude'])\n",
    "            endLon.append(row['longitude'])\n",
    "            endEngineStatus.append(row['EngineStatus'])\n",
    "            endAccuracyDrop.append(row['accuracyDrop'])\n",
    "            distance.append(row['segmentDistance'])\n",
    "            duration.append(row['segmentDuration'])\n",
    "            speed.append(row['segmentSpeedKmH'])               \n",
    "            \n",
    "    \n",
    "    df_segment_temp['deviceId'] = deviceId\n",
    "    df_segment_temp['type'] = Type\n",
    "    df_segment_temp['dateTime'] = dateTime\n",
    "    df_segment_temp['startLatitude'] = startLat\n",
    "    df_segment_temp['startLongitude'] = startLon\n",
    "    df_segment_temp['startLongitude'] = startLon\n",
    "    df_segment_temp['startEngineStatus'] = startEngineStatus \n",
    "    df_segment_temp['startAccuracyDrop'] = startAccuracyDrop\n",
    "    df_segment_temp['endLatitude'] = endLat\n",
    "    df_segment_temp['endLongitude'] = endLon                       \n",
    "    df_segment_temp['endEngineStatus'] = endEngineStatus\n",
    "    df_segment_temp['endAccuracyDrop'] = endAccuracyDrop      \n",
    "    df_segment_temp['segmentDistance'] = distance\n",
    "    df_segment_temp['segmentDuration'] = duration\n",
    "    df_segment_temp['segmentSpeedKmH'] = speed \n",
    "\n",
    "    return df_segment_temp"
   ]
  },
  {
   "cell_type": "code",
   "execution_count": 5,
   "id": "strategic-sleep",
   "metadata": {},
   "outputs": [],
   "source": [
    "df_segment_temp = df.groupby(\"deviceId\").apply(segment_table_maker)"
   ]
  },
  {
   "cell_type": "code",
   "execution_count": 6,
   "id": "leading-probability",
   "metadata": {},
   "outputs": [
    {
     "data": {
      "text/plain": [
       "333341694"
      ]
     },
     "execution_count": 6,
     "metadata": {},
     "output_type": "execute_result"
    }
   ],
   "source": [
    "df_segment_temp.count()"
   ]
  },
  {
   "cell_type": "code",
   "execution_count": 7,
   "id": "horizontal-evening",
   "metadata": {},
   "outputs": [],
   "source": [
    "# df_segment_temp.write.csv('file:///%s/segment_table_no_filter'%path, sep=\",\")"
   ]
  },
  {
   "cell_type": "code",
   "execution_count": 7,
   "id": "fitted-accounting",
   "metadata": {},
   "outputs": [],
   "source": [
    "'''applying filter: dropping segment durations longer than 70s\n",
    "as well as segments with speed higher than 130KmH or equal to absolute zero'''\n",
    "df_segment_temp = df_segment_temp.filter(df_segment_temp['segmentDuration']<=70)\n",
    "df_segment_temp = df_segment_temp.filter(df_segment_temp['segmentSpeedKmH']<=130)\n",
    "df_segment_temp = df_segment_temp.filter(df_segment_temp['segmentSpeedKmH']!=0)"
   ]
  },
  {
   "cell_type": "code",
   "execution_count": 8,
   "id": "fifteen-houston",
   "metadata": {},
   "outputs": [
    {
     "data": {
      "text/plain": [
       "300841429"
      ]
     },
     "execution_count": 8,
     "metadata": {},
     "output_type": "execute_result"
    }
   ],
   "source": [
    "df_segment_temp.count()"
   ]
  },
  {
   "cell_type": "code",
   "execution_count": 9,
   "id": "guided-condition",
   "metadata": {},
   "outputs": [
    {
     "name": "stdout",
     "output_type": "stream",
     "text": [
      "+--------+----+-------------------+-------------+--------------+-----------------+-----------------+---------------+---------------+-----------+------------+---------------+---------------+-------------------+\n",
      "|deviceId|type|           dateTime|startLatitude|startLongitude|startEngineStatus|startAccuracyDrop|endAccuracyDrop|endEngineStatus|endLatitude|endLongitude|segmentDistance|segmentDuration|    segmentSpeedKmH|\n",
      "+--------+----+-------------------+-------------+--------------+-----------------+-----------------+---------------+---------------+-----------+------------+---------------+---------------+-------------------+\n",
      "| 2507297|   2|2019-04-02 10:15:28|     45.08672|       7.60882|                1|                1|              1|              1|   45.08673|     7.60883|           1.36|           27.0|0.18159155668585095|\n",
      "| 2507297|   2|2019-04-02 10:15:55|     45.08673|       7.60883|                1|                1|              1|              1|   45.08674|     7.60884|           1.36|           31.0|0.15816037902034039|\n",
      "| 2507297|   2|2019-04-02 10:16:26|     45.08674|       7.60884|                1|                1|              1|              1|   45.08676|     7.60884|           2.22|           60.0| 0.1333601672484174|\n",
      "+--------+----+-------------------+-------------+--------------+-----------------+-----------------+---------------+---------------+-----------+------------+---------------+---------------+-------------------+\n",
      "\n"
     ]
    }
   ],
   "source": [
    "df_segment_temp.limit(3).show(15)"
   ]
  },
  {
   "cell_type": "code",
   "execution_count": 10,
   "id": "educational-consumption",
   "metadata": {},
   "outputs": [
    {
     "data": {
      "text/plain": [
       "129.999996335764"
      ]
     },
     "execution_count": 10,
     "metadata": {},
     "output_type": "execute_result"
    }
   ],
   "source": [
    "max_value = df_segment_temp.agg({\"segmentSpeedKmH\": \"max\"}).collect()[0][0]\n",
    "max_value"
   ]
  },
  {
   "cell_type": "code",
   "execution_count": 16,
   "id": "logical-praise",
   "metadata": {},
   "outputs": [],
   "source": [
    "'''adding columns related to grid table'''\n",
    "schema_segments_ultimate ='deviceId String,\\\n",
    "                          type Integer,\\\n",
    "                          dateTime string,\\\n",
    "                          startLatitude double,\\\n",
    "                          startLongitude double,\\\n",
    "                          startEngineStatus Integer,\\\n",
    "                          startAccuracyDrop Integer,\\\n",
    "                          endAccuracyDrop Integer,\\\n",
    "                          endEngineStatus Integer,\\\n",
    "                          endLatitude double,\\\n",
    "                          endLongitude double,\\\n",
    "                          segmentDistance double,\\\n",
    "                          segmentDuration double,\\\n",
    "                          segmentSpeedKmH double,\\\n",
    "                          xtmp double,\\\n",
    "                          ytmp double,\\\n",
    "                          start_x integer,\\\n",
    "                          start_y integer,\\\n",
    "                          end_x integer,\\\n",
    "                          end_y integer,\\\n",
    "                          cell_id_start string,\\\n",
    "                          cell_id_end string'\n"
   ]
  },
  {
   "cell_type": "code",
   "execution_count": 17,
   "id": "sufficient-treasurer",
   "metadata": {},
   "outputs": [],
   "source": [
    "'''shift by 100m in degrees'''\n",
    "shiftInMeterLat = 0.0008983152841182118 #100m\n",
    "shiftInMeterLon = 0.001270644533487797\n",
    "# ============= Torino and countryside ========================================\n",
    "minLat = 44.96282106687191\n",
    "minLon = 7.502048016422193\n",
    "maxLat = 45.19265016665321 \n",
    "maxLon = 7.791812422724604\n",
    "# ============================================================================="
   ]
  },
  {
   "cell_type": "code",
   "execution_count": 18,
   "id": "solid-intelligence",
   "metadata": {},
   "outputs": [],
   "source": [
    "@F.pandas_udf(schema_segments_ultimate, functionType=F.PandasUDFType.GROUPED_MAP)\n",
    "def segment_position_calculator(df_segments):\n",
    "    os.environ[\"ARROW_PRE_0_15_IPC_FORMAT\"] = \"1\"\n",
    "    \n",
    "    df_segments = df_segments.sort_values(by=\"dateTime\")\n",
    "    df_segments.reset_index(drop = True, inplace=True)\n",
    "    \n",
    "    '''calculating the cells that these segments belong to'''\n",
    "    df_segments['xtmp'] = (df_segments['startLongitude']-minLon)/shiftInMeterLon\n",
    "    df_segments['ytmp'] = (df_segments['startLatitude']-minLat)/shiftInMeterLat\n",
    "    df_segments['start_x'] = (df_segments['xtmp'].apply(lambda x : np.floor(x)))+1\n",
    "    df_segments['start_y'] = (df_segments['ytmp'].apply(lambda y : np.floor(y)))+1\n",
    "\n",
    "    df_segments['xtmp'] = (df_segments['endLongitude']-minLon)/shiftInMeterLon\n",
    "    df_segments['ytmp'] = (df_segments['endLatitude']-minLat)/shiftInMeterLat\n",
    "    df_segments['end_x'] = (df_segments['xtmp'].apply(lambda x : np.floor(x)))+1\n",
    "    df_segments['end_y'] = (df_segments['ytmp'].apply(lambda y : np.floor(y)))+1\n",
    "    df_segments['cell_id_start'] = [f'{int(df_segments.start_y.values[i])}_{int(df_segments.start_x.values[i])}' \n",
    "                          for i in range(len(df_segments))]\n",
    "    df_segments['cell_id_end'] = [f'{int(df_segments.end_y.values[i])}_{int(df_segments.end_x.values[i])}' \n",
    "                          for i in range(len(df_segments))]\n",
    "#     df_segments = df_segments.sort_values(['id'])\n",
    "    return df_segments"
   ]
  },
  {
   "cell_type": "code",
   "execution_count": 19,
   "id": "passive-completion",
   "metadata": {},
   "outputs": [],
   "source": [
    "df_segment = df_segment_temp.groupby(\"deviceId\").apply(segment_position_calculator)"
   ]
  },
  {
   "cell_type": "code",
   "execution_count": 20,
   "id": "simplified-marshall",
   "metadata": {},
   "outputs": [],
   "source": [
    "df_segment.write.csv('file:///%s/segment_table'%path, sep=\",\")"
   ]
  },
  {
   "cell_type": "code",
   "execution_count": 14,
   "id": "standard-motor",
   "metadata": {},
   "outputs": [
    {
     "data": {
      "text/plain": [
       "69743658"
      ]
     },
     "execution_count": 14,
     "metadata": {},
     "output_type": "execute_result"
    }
   ],
   "source": [
    "df_segment.count()"
   ]
  }
 ],
 "metadata": {
  "kernelspec": {
   "display_name": "Python 3 (ipykernel)",
   "language": "python",
   "name": "python3"
  },
  "language_info": {
   "codemirror_mode": {
    "name": "ipython",
    "version": 3
   },
   "file_extension": ".py",
   "mimetype": "text/x-python",
   "name": "python",
   "nbconvert_exporter": "python",
   "pygments_lexer": "ipython3",
   "version": "3.8.8"
  }
 },
 "nbformat": 4,
 "nbformat_minor": 5
}
