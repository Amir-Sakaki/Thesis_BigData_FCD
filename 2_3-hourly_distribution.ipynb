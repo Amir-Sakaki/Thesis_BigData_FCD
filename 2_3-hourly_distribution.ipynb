{
 "cells": [
  {
   "cell_type": "code",
   "execution_count": 1,
   "id": "superior-investigator",
   "metadata": {},
   "outputs": [],
   "source": [
    "from pyspark.sql import functions as F\n",
    "from pyspark.sql.types import *\n",
    "import matplotlib.pyplot as plt\n",
    "import matplotlib.dates as mdate\n",
    "from matplotlib.ticker import NullFormatter\n",
    "import datetime as dt\n",
    "import seaborn as sns\n",
    "import pandas as pd\n",
    "import numpy as np\n",
    "import geopy.distance\n",
    "import matplotlib\n",
    "import datetime\n",
    "import pickle\n",
    "import os"
   ]
  },
  {
   "cell_type": "code",
   "execution_count": 2,
   "id": "valid-alliance",
   "metadata": {},
   "outputs": [],
   "source": [
    "#schema of segment table\n",
    "schema_segments ='deviceId String,\\\n",
    "                  type Integer,\\\n",
    "                  dateTime string,\\\n",
    "                  startLatitude double,\\\n",
    "                  startLongitude double,\\\n",
    "                  startEngineStatus Integer,\\\n",
    "                  startAccuracyDrop Integer,\\\n",
    "                  endAccuracyDrop Integer,\\\n",
    "                  endEngineStatus Integer,\\\n",
    "                  endLatitude double,\\\n",
    "                  endLongitude double,\\\n",
    "                  segmentDistance double,\\\n",
    "                  segmentDuration double,\\\n",
    "                  segmentSpeedKmH double,\\\n",
    "                  xtmp double,\\\n",
    "                  ytmp double,\\\n",
    "                  start_x integer,\\\n",
    "                  start_y integer,\\\n",
    "                  end_x integer,\\\n",
    "                  end_y integer,\\\n",
    "                  cell_id_start string,\\\n",
    "                  cell_id_end string'\n",
    "#reading csv\n",
    "path = os.path.abspath(os.getcwd())\n",
    "df_segment_hourly = spark.read.csv('file:///%s/segment_table'%path,sep=\",\", schema = schema_segments)"
   ]
  },
  {
   "cell_type": "code",
   "execution_count": 3,
   "id": "patent-balloon",
   "metadata": {},
   "outputs": [],
   "source": [
    "df_segment_hourly = df_segment_hourly.withColumn('dateTime', F.to_timestamp('dateTime'))"
   ]
  },
  {
   "cell_type": "code",
   "execution_count": 4,
   "id": "ambient-formula",
   "metadata": {},
   "outputs": [],
   "source": [
    "#change date to hour\n",
    "@F.udf()\n",
    "def date_to_hour(dateTime):\n",
    "    hour = dateTime.hour\n",
    "    return hour\n",
    "\n",
    "df_segment_hourly = df_segment_hourly.withColumn('dateTime', date_to_hour('dateTime'))"
   ]
  },
  {
   "cell_type": "code",
   "execution_count": 5,
   "id": "amber-summit",
   "metadata": {},
   "outputs": [
    {
     "name": "stdout",
     "output_type": "stream",
     "text": [
      "+--------+----+--------+-------------+--------------+-----------------+-----------------+---------------+---------------+-----------+------------+---------------+---------------+------------------+------------------+------------------+-------+-------+-----+-----+-------------+-----------+\n",
      "|deviceId|type|dateTime|startLatitude|startLongitude|startEngineStatus|startAccuracyDrop|endAccuracyDrop|endEngineStatus|endLatitude|endLongitude|segmentDistance|segmentDuration|   segmentSpeedKmH|              xtmp|              ytmp|start_x|start_y|end_x|end_y|cell_id_start|cell_id_end|\n",
      "+--------+----+--------+-------------+--------------+-----------------+-----------------+---------------+---------------+-----------+------------+---------------+---------------+------------------+------------------+------------------+-------+-------+-----+-----+-------------+-----------+\n",
      "| 2506913|   2|      11|      45.0721|       7.70783|                1|                1|              1|              1|   45.07185|     7.70625|         127.49|           10.0| 45.89502817963192|160.70740336582747|121.37045317570231|    162|    122|  161|  122|      122_162|    122_161|\n",
      "| 2506913|   2|      11|     45.07185|       7.70625|                1|                1|              1|              1|   45.07184|     7.70514|          87.42|           15.0|20.980225584733084|159.83383096162967|121.35932122662734|    161|    122|  160|  122|      122_161|    122_160|\n",
      "| 2506913|   2|      11|     45.07166|       7.70657|                1|                1|              1|              1|   45.07058|     7.70792|         160.34|           53.0|10.890792028490795| 162.0216969829541|119.95669564262778|    161|    122|  163|  120|      122_161|    120_163|\n",
      "| 2506913|   2|      11|     45.07283|       7.70797|                1|                1|              2|              0|   45.07443|     7.70937|         209.22|           43.0| 17.51574645649345|163.16285012357326|124.24249603817496|    163|    123|  164|  125|      123_163|    125_164|\n",
      "| 2506913|   2|      12|     45.06942|       7.71047|                1|                2|              1|              1|   45.06934|     7.70994|          42.67|            7.0|21.947014365713493|163.61144135816122|118.57633395678607|    165|    119|  164|  119|      119_165|    119_164|\n",
      "| 2506913|   2|      12|     45.06934|       7.70994|                1|                1|              1|              1|    45.0693|     7.70976|          14.86|            4.0|13.370384836014201|163.46978096829173|118.53180616047038|    164|    119|  164|  119|      119_164|    119_164|\n",
      "| 2506913|   2|      12|      45.0693|       7.70976|                1|                1|              1|              0|   45.06954|     7.70835|          114.2|           44.0| 9.343482284473312|162.36010791431053|118.79897293838033|    164|    119|  163|  119|      119_164|    119_163|\n",
      "| 2506913|   2|      12|     45.07215|       7.70842|                1|                2|              1|              0|   45.07022|     7.70981|          240.8|           38.0|22.812989140440646|163.50913107658886|119.55594547577077|    163|    122|  164|  120|      122_163|    120_164|\n",
      "| 2506913|   2|      12|     45.07052|        7.7079|                1|                1|              1|              1|   45.07074|     7.70785|          24.76|            2.0| 44.57578816219878|  161.966606831338|120.13480682789844|    163|    120|  162|  121|      120_163|    121_162|\n",
      "| 2506913|   2|      12|     45.07074|       7.70785|                1|                1|              1|              1|   45.07106|     7.70783|           35.6|           10.0|12.815089746519584| 161.9508667880197|120.49102919843978|    162|    121|  162|  121|      121_162|    121_162|\n",
      "| 2506913|   2|      12|      45.0735|       7.70997|                1|                1|              1|              1|    45.0728|      7.7103|          82.02|            7.0|   42.181080086261|163.89476213790158|122.42798833824342|    164|    124|  164|  123|      124_164|    123_164|\n",
      "| 2506913|   2|      12|      45.0728|        7.7103|                1|                1|              1|              1|   45.07233|     7.71139|         100.48|           21.0| 17.22478085702575|164.75259449878038| 121.9047867315143|    164|    123|  165|  122|      123_164|    122_165|\n",
      "| 2506913|   2|      12|     45.07226|        7.7138|                1|                1|              1|              0|   45.07172|     7.71392|          60.75|           13.0| 16.82345533690399|166.74370997861922|121.22573783767237|    167|    122|  167|  122|      122_167|    122_167|\n",
      "| 2506913|   2|      12|     45.07172|       7.71392|                1|                1|              1|              1|    45.0704|     7.71435|         150.55|           25.0|21.679677324453184|167.08212090997498|119.75632055919928|    167|    122|  168|  120|      122_167|    120_168|\n",
      "| 2506913|   2|      12|      45.0704|       7.71435|                1|                1|              1|              1|   45.07006|     7.71449|          39.36|           11.0|12.881741936308389|167.19230121320717| 119.3778342905001|    168|    120|  168|  120|      120_168|    120_168|\n",
      "| 2506913|   2|      13|     45.07074|       7.71845|                1|                1|              1|              1|   45.07059|     7.71868|          24.62|           11.0|   8.0561589540738|170.48984028851348|119.96782759171066|    171|    121|  171|  120|      121_171|    120_171|\n",
      "| 2506913|   2|      13|     45.07112|       7.72041|                1|                1|              1|              1|   45.07167|     7.72218|          152.2|           23.0| 23.82236231281211| 173.2443478693179| 121.1700780922738|    172|    121|  174|  122|      121_172|    122_174|\n",
      "| 2506913|   2|      13|     45.07119|        7.7206|                1|                1|              1|              1|   45.07102|     7.71975|          69.55|            5.0| 50.07741368661109|  171.331932606074|120.44650140211618|    173|    121|  172|  121|      121_173|    121_172|\n",
      "| 2506913|   2|      13|     45.07102|       7.71975|                1|                1|              2|              1|   45.07125|     7.71655|         253.29|           36.0|25.329049245396426| 168.8135256750523|120.70253623094325|    172|    121|  169|  121|      121_172|    121_169|\n",
      "| 2506913|   2|      13|     45.07206|       7.71704|                1|                1|              2|              1|   45.07254|     7.71662|          62.77|           12.0|18.829545527960253| 168.8686158266684|122.13855766217563|    170|    122|  169|  123|      122_170|    123_169|\n",
      "+--------+----+--------+-------------+--------------+-----------------+-----------------+---------------+---------------+-----------+------------+---------------+---------------+------------------+------------------+------------------+-------+-------+-----+-----+-------------+-----------+\n",
      "only showing top 20 rows\n",
      "\n"
     ]
    }
   ],
   "source": [
    "df_segment_hourly.show()"
   ]
  },
  {
   "cell_type": "code",
   "execution_count": 6,
   "id": "mature-phrase",
   "metadata": {},
   "outputs": [],
   "source": [
    "#creating a new dataframe consisting only hours and their number\n",
    "#of segments per hour\n",
    "df_hourly = df_segment_hourly.groupby(['dateTime']).agg(F.count('dateTime'))"
   ]
  },
  {
   "cell_type": "code",
   "execution_count": 7,
   "id": "exceptional-nudist",
   "metadata": {},
   "outputs": [
    {
     "name": "stdout",
     "output_type": "stream",
     "text": [
      "+--------+---------------+\n",
      "|dateTime|count(dateTime)|\n",
      "+--------+---------------+\n",
      "|       7|        3479580|\n",
      "|      15|       15816947|\n",
      "|      11|       17725300|\n",
      "|       3|        2051421|\n",
      "|       8|        9629644|\n",
      "|      22|       10687575|\n",
      "|      16|       16983777|\n",
      "|       0|        6553553|\n",
      "|       5|        1036131|\n",
      "|      18|       22151618|\n",
      "|      17|       19065508|\n",
      "|       6|        1619105|\n",
      "|      19|       24805223|\n",
      "|      23|        7472123|\n",
      "|       9|       18690127|\n",
      "|       1|        5262608|\n",
      "|      20|       23307679|\n",
      "|      10|       20684905|\n",
      "|       4|        1234981|\n",
      "|      12|       17336485|\n",
      "+--------+---------------+\n",
      "only showing top 20 rows\n",
      "\n"
     ]
    }
   ],
   "source": [
    "df_hourly.show()"
   ]
  },
  {
   "cell_type": "code",
   "execution_count": 8,
   "id": "african-tissue",
   "metadata": {},
   "outputs": [],
   "source": [
    "df_hourly = df_hourly.withColumn(\"dateTime\",df_hourly.dateTime.cast('int'))\n",
    "df_hourly = df_hourly.orderBy('dateTime',ascending=True)"
   ]
  },
  {
   "cell_type": "code",
   "execution_count": 9,
   "id": "overhead-retention",
   "metadata": {},
   "outputs": [
    {
     "name": "stdout",
     "output_type": "stream",
     "text": [
      "+--------+---------------+\n",
      "|dateTime|count(dateTime)|\n",
      "+--------+---------------+\n",
      "|       0|        6553553|\n",
      "|       1|        5262608|\n",
      "|       2|        3519391|\n",
      "|       3|        2051421|\n",
      "|       4|        1234981|\n",
      "|       5|        1036131|\n",
      "|       6|        1619105|\n",
      "|       7|        3479580|\n",
      "|       8|        9629644|\n",
      "|       9|       18690127|\n",
      "|      10|       20684905|\n",
      "|      11|       17725300|\n",
      "|      12|       17336485|\n",
      "|      13|       17557503|\n",
      "|      14|       16826836|\n",
      "|      15|       15816947|\n",
      "|      16|       16983777|\n",
      "|      17|       19065508|\n",
      "|      18|       22151618|\n",
      "|      19|       24805223|\n",
      "+--------+---------------+\n",
      "only showing top 20 rows\n",
      "\n"
     ]
    }
   ],
   "source": [
    "df_hourly.show()"
   ]
  },
  {
   "cell_type": "code",
   "execution_count": 10,
   "id": "optimum-myrtle",
   "metadata": {},
   "outputs": [],
   "source": [
    "df_hourly = df_hourly.toPandas()"
   ]
  },
  {
   "cell_type": "code",
   "execution_count": 11,
   "id": "wooden-franchise",
   "metadata": {},
   "outputs": [],
   "source": [
    "df_hourly.columns = ['hour','num_segment']"
   ]
  },
  {
   "cell_type": "code",
   "execution_count": 14,
   "id": "phantom-chemistry",
   "metadata": {},
   "outputs": [
    {
     "data": {
      "image/png": "[encoded data removed]",
      "text/plain": [
       "<Figure size 720x576 with 1 Axes>"
      ]
     },
     "metadata": {
      "needs_background": "light"
     },
     "output_type": "display_data"
    }
   ],
   "source": [
    "# df_hourly = df_hourly.toPandas()\n",
    "plt.rcParams[\"figure.figsize\"] = (10,8)\n",
    "plt.plot(df_hourly['hour'],df_hourly['num_segment'], alpha = 1)\n",
    "    \n",
    "plt.xticks(np.arange(24))\n",
    "\n",
    "def formatter(x, pos):\n",
    "    return str(round(x / 1e6, 2)) + \" million\"\n",
    "\n",
    "plt.gca().yaxis.set_major_formatter(formatter)\n",
    "plt.gca().yaxis.set_minor_formatter(NullFormatter())\n",
    "#     fig.subplots_adjust(right = 1.2)\n",
    "plt.xlim(-1)\n",
    "# plt.ylim(0,110000)\n",
    "plt.grid(True)\n",
    "\n",
    "plt.xlabel(\"Hour\")\n",
    "plt.ylabel(\"Number of Segments\")\n",
    "title = \"Hourly Segments distribution\"\n",
    "plt.title(title)\n",
    "plt.savefig(f'{title}.jpg',bbox_inches='tight')\n",
    "plt.show()"
   ]
  },
  {
   "cell_type": "code",
   "execution_count": 13,
   "id": "isolated-emerald",
   "metadata": {},
   "outputs": [
    {
     "data": {
      "text/plain": [
       "300841429"
      ]
     },
     "execution_count": 13,
     "metadata": {},
     "output_type": "execute_result"
    }
   ],
   "source": [
    "sum(df_hourly['num_segment'])"
   ]
  }
 ],
 "metadata": {
  "kernelspec": {
   "display_name": "Python 3 (ipykernel)",
   "language": "python",
   "name": "python3"
  },
  "language_info": {
   "codemirror_mode": {
    "name": "ipython",
    "version": 3
   },
   "file_extension": ".py",
   "mimetype": "text/x-python",
   "name": "python",
   "nbconvert_exporter": "python",
   "pygments_lexer": "ipython3",
   "version": "3.8.8"
  }
 },
 "nbformat": 4,
 "nbformat_minor": 5
}
