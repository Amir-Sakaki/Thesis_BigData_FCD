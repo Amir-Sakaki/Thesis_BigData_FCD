{
 "cells": [
  {
   "cell_type": "markdown",
   "id": "applied-refrigerator",
   "metadata": {},
   "source": [
    "<h2>reading segment table"
   ]
  },
  {
   "cell_type": "code",
   "execution_count": 1,
   "id": "responsible-integral",
   "metadata": {},
   "outputs": [],
   "source": [
    "from pyspark.sql import functions as F\n",
    "import matplotlib.pyplot as plt\n",
    "from pyspark_dist_explore import hist\n",
    "from pyspark.sql.types import *\n",
    "import seaborn as sns\n",
    "import pandas as pd\n",
    "import numpy as np\n",
    "import geopy.distance\n",
    "import matplotlib\n",
    "import datetime\n",
    "import pickle\n",
    "import os"
   ]
  },
  {
   "cell_type": "code",
   "execution_count": 2,
   "id": "developed-theorem",
   "metadata": {},
   "outputs": [],
   "source": [
    "#schema of segment table\n",
    "schema_segments ='deviceId String,\\\n",
    "                  type Integer,\\\n",
    "                  dateTime string,\\\n",
    "                  startLatitude double,\\\n",
    "                  startLongitude double,\\\n",
    "                  startEngineStatus Integer,\\\n",
    "                  startAccuracyDrop Integer,\\\n",
    "                  endAccuracyDrop Integer,\\\n",
    "                  endEngineStatus Integer,\\\n",
    "                  endLatitude double,\\\n",
    "                  endLongitude double,\\\n",
    "                  segmentDistance double,\\\n",
    "                  segmentDuration double,\\\n",
    "                  segmentSpeedKmH double'\n",
    "#reading csv\n",
    "path = os.path.abspath(os.getcwd())\n",
    "df_segments= spark.read.csv('file:///%s/segment_table_no_filter'%path,sep=\",\", schema = schema_segments)"
   ]
  },
  {
   "cell_type": "code",
   "execution_count": 3,
   "id": "cooked-depth",
   "metadata": {},
   "outputs": [
    {
     "data": {
      "text/plain": [
       "333341694"
      ]
     },
     "execution_count": 3,
     "metadata": {},
     "output_type": "execute_result"
    }
   ],
   "source": [
    "df_segments.count()"
   ]
  },
  {
   "cell_type": "markdown",
   "id": "employed-credit",
   "metadata": {},
   "source": [
    "<h1> Duration histogram and CDF"
   ]
  },
  {
   "cell_type": "code",
   "execution_count": 5,
   "id": "weighted-broadcast",
   "metadata": {},
   "outputs": [],
   "source": [
    "df_duration = df_segments.select('segmentDuration')"
   ]
  },
  {
   "cell_type": "code",
   "execution_count": 7,
   "id": "proof-bristol",
   "metadata": {
    "collapsed": true,
    "jupyter": {
     "outputs_hidden": true
    }
   },
   "outputs": [
    {
     "name": "stdout",
     "output_type": "stream",
     "text": [
      "+---------------+\n",
      "|segmentDuration|\n",
      "+---------------+\n",
      "|           17.0|\n",
      "|           21.0|\n",
      "|           29.0|\n",
      "|           18.0|\n",
      "|            1.0|\n",
      "|           31.0|\n",
      "|            2.0|\n",
      "|           17.0|\n",
      "|           17.0|\n",
      "|           18.0|\n",
      "|           21.0|\n",
      "|           17.0|\n",
      "|           20.0|\n",
      "|           25.0|\n",
      "|           37.0|\n",
      "|           36.0|\n",
      "|           31.0|\n",
      "|           12.0|\n",
      "|          107.0|\n",
      "|          223.0|\n",
      "+---------------+\n",
      "only showing top 20 rows\n",
      "\n"
     ]
    }
   ],
   "source": [
    "df_duration.show()"
   ]
  },
  {
   "cell_type": "code",
   "execution_count": 91,
   "id": "vietnamese-forestry",
   "metadata": {},
   "outputs": [],
   "source": [
    "df_duration_percentile = df_duration.agg(F.expr('percentile(segmentDuration, array(0.0))')[0].alias(\"0.0\"),\n",
    "                                         F.expr('percentile(segmentDuration, array(0.06))')[0].alias(\"0.05\"),\n",
    "                                         F.expr('percentile(segmentDuration, array(0.10))')[0].alias(\"0.10\"),\n",
    "                                         F.expr('percentile(segmentDuration, array(0.15))')[0].alias(\"0.15\"),\n",
    "                                         F.expr('percentile(segmentDuration, array(0.20))')[0].alias(\"0.20\"),\n",
    "                                         F.expr('percentile(segmentDuration, array(0.25))')[0].alias(\"0.25\"),\n",
    "                                         F.expr('percentile(segmentDuration, array(0.30))')[0].alias(\"0.30\"),\n",
    "                                         F.expr('percentile(segmentDuration, array(0.35))')[0].alias(\"0.35\"),\n",
    "                                         F.expr('percentile(segmentDuration, array(0.40))')[0].alias(\"0.40\"),\n",
    "                                         F.expr('percentile(segmentDuration, array(0.45))')[0].alias(\"0.45\"),\n",
    "                                         F.expr('percentile(segmentDuration, array(0.50))')[0].alias(\"0.50\"),\n",
    "                                         F.expr('percentile(segmentDuration, array(0.55))')[0].alias(\"0.55\"),\n",
    "                                         F.expr('percentile(segmentDuration, array(0.60))')[0].alias(\"0.60\"),\n",
    "                                         F.expr('percentile(segmentDuration, array(0.65))')[0].alias(\"0.65\"),\n",
    "                                         F.expr('percentile(segmentDuration, array(0.70))')[0].alias(\"0.70\"),\n",
    "                                         F.expr('percentile(segmentDuration, array(0.75))')[0].alias(\"0.75\"),\n",
    "                                         F.expr('percentile(segmentDuration, array(0.80))')[0].alias(\"0.80\"),\n",
    "                                         F.expr('percentile(segmentDuration, array(0.85))')[0].alias(\"0.85\"),\n",
    "                                         F.expr('percentile(segmentDuration, array(0.90))')[0].alias(\"0.90\"),\n",
    "                                         F.expr('percentile(segmentDuration, array(0.91))')[0].alias(\"0.91\"),  \n",
    "                                         F.expr('percentile(segmentDuration, array(0.92))')[0].alias(\"0.92\"),\n",
    "                                         F.expr('percentile(segmentDuration, array(0.93))')[0].alias(\"0.93\"),\n",
    "                                         F.expr('percentile(segmentDuration, array(0.94))')[0].alias(\"0.94\"),\n",
    "                                         F.expr('percentile(segmentDuration, array(0.95))')[0].alias(\"0.95\"),\n",
    "                                         F.expr('percentile(segmentDuration, array(0.96))')[0].alias(\"0.96\"),\n",
    "                                         F.expr('percentile(segmentDuration, array(0.97))')[0].alias(\"0.97\"),\n",
    "                                         F.expr('percentile(segmentDuration, array(0.98))')[0].alias(\"0.98\"),\n",
    "                                         F.expr('percentile(segmentDuration, array(0.99))')[0].alias(\"0.99\"),\n",
    "                                         F.expr('percentile(segmentDuration, array(1.0))')[0].alias(\"1.0\"))"
   ]
  },
  {
   "cell_type": "code",
   "execution_count": 92,
   "id": "bizarre-least",
   "metadata": {},
   "outputs": [
    {
     "name": "stdout",
     "output_type": "stream",
     "text": [
      "+---+----+----+----+----+----+----+----+----+----+----+----+----+----+----+----+----+----+----+----+----+-----+-----+-----+------+------+------+-------+-----------+\n",
      "|0.0|0.05|0.10|0.15|0.20|0.25|0.30|0.35|0.40|0.45|0.50|0.55|0.60|0.65|0.70|0.75|0.80|0.85|0.90|0.91|0.92| 0.93| 0.94| 0.95|  0.96|  0.97|  0.98|   0.99|        1.0|\n",
      "+---+----+----+----+----+----+----+----+----+----+----+----+----+----+----+----+----+----+----+----+----+-----+-----+-----+------+------+------+-------+-----------+\n",
      "|0.0| 7.0|13.0|21.0|31.0|42.0|55.0|60.0|60.0|60.0|60.0|60.0|60.0|60.0|60.0|60.0|60.0|60.0|61.0|61.0|90.0|141.0|190.0|414.0|1033.0|2697.0|8165.0|34340.0|3.1182013E7|\n",
      "+---+----+----+----+----+----+----+----+----+----+----+----+----+----+----+----+----+----+----+----+----+-----+-----+-----+------+------+------+-------+-----------+\n",
      "\n"
     ]
    }
   ],
   "source": [
    "df_duration_percentile.show()"
   ]
  },
  {
   "cell_type": "code",
   "execution_count": 93,
   "id": "sonic-constitution",
   "metadata": {},
   "outputs": [],
   "source": [
    "duration_quantile = df_duration_percentile.toPandas()"
   ]
  },
  {
   "cell_type": "code",
   "execution_count": 94,
   "id": "nonprofit-archives",
   "metadata": {},
   "outputs": [],
   "source": [
    "dic = {}\n",
    "for column in duration_quantile:\n",
    "    dic[column] = duration_quantile[column][0]"
   ]
  },
  {
   "cell_type": "code",
   "execution_count": 16,
   "id": "connected-potential",
   "metadata": {
    "collapsed": true,
    "jupyter": {
     "outputs_hidden": true
    }
   },
   "outputs": [
    {
     "data": {
      "text/plain": [
       "{'0.0': 0.0,\n",
       " '0.05': 7.0,\n",
       " '0.10': 13.0,\n",
       " '0.15': 21.0,\n",
       " '0.20': 31.0,\n",
       " '0.25': 42.0,\n",
       " '0.30': 55.0,\n",
       " '0.35': 60.0,\n",
       " '0.40': 60.0,\n",
       " '0.45': 60.0,\n",
       " '0.50': 60.0,\n",
       " '0.55': 60.0,\n",
       " '0.60': 60.0,\n",
       " '0.65': 60.0,\n",
       " '0.70': 60.0,\n",
       " '0.75': 60.0,\n",
       " '0.80': 60.0,\n",
       " '0.85': 60.0,\n",
       " '0.90': 61.0,\n",
       " '0.95': 414.0,\n",
       " '1.0': 31182013.0}"
      ]
     },
     "execution_count": 16,
     "metadata": {},
     "output_type": "execute_result"
    }
   ],
   "source": [
    "dic"
   ]
  },
  {
   "cell_type": "code",
   "execution_count": 95,
   "id": "later-tackle",
   "metadata": {},
   "outputs": [],
   "source": [
    "x_axis = list(dic.values())\n",
    "y_axis = list(dic.keys())\n",
    "y_axis = [round(float(i)*100,1) for i in y_axis]"
   ]
  },
  {
   "cell_type": "code",
   "execution_count": 17,
   "id": "every-panel",
   "metadata": {
    "collapsed": true,
    "jupyter": {
     "outputs_hidden": true
    }
   },
   "outputs": [
    {
     "data": {
      "text/plain": [
       "[0.0,\n",
       " 5.0,\n",
       " 10.0,\n",
       " 15.0,\n",
       " 20.0,\n",
       " 25.0,\n",
       " 30.0,\n",
       " 35.0,\n",
       " 40.0,\n",
       " 45.0,\n",
       " 50.0,\n",
       " 55.0,\n",
       " 60.0,\n",
       " 65.0,\n",
       " 70.0,\n",
       " 75.0,\n",
       " 80.0,\n",
       " 85.0,\n",
       " 90.0,\n",
       " 95.0,\n",
       " 100.0]"
      ]
     },
     "execution_count": 17,
     "metadata": {},
     "output_type": "execute_result"
    }
   ],
   "source": [
    "y_axis "
   ]
  },
  {
   "cell_type": "code",
   "execution_count": 98,
   "id": "plain-helicopter",
   "metadata": {},
   "outputs": [
    {
     "data": {
      "image/png": "[encoded data removed]",
      "text/plain": [
       "<Figure size 432x288 with 1 Axes>"
      ]
     },
     "metadata": {
      "needs_background": "light"
     },
     "output_type": "display_data"
    }
   ],
   "source": [
    "plt.plot(x_axis, y_axis)\n",
    "plt.xlim(-10,200)\n",
    "plt.yticks(np.arange(0,110,10))\n",
    "plt.title('CDF')\n",
    "plt.xlabel('Segment Duration (s)')\n",
    "plt.ylabel('Percent %')\n",
    "# plt.ylim(0,1)\n",
    "plt.grid(True)\n",
    "plt.vlines(x=70,ymin = 0, ymax = max(y_axis),colors='red', ls=':')\n",
    "title='SegmentDuration'\n",
    "plt.savefig(f'{title}_CDF.jpg',bbox_inches='tight')\n",
    "plt.show()"
   ]
  },
  {
   "cell_type": "code",
   "execution_count": 6,
   "id": "destroyed-seating",
   "metadata": {},
   "outputs": [
    {
     "data": {
      "text/plain": [
       "0.9149778095265815"
      ]
     },
     "execution_count": 6,
     "metadata": {},
     "output_type": "execute_result"
    }
   ],
   "source": [
    "under_70 = df_duration.filter(df_duration['segmentDuration'] <= 70).count()\n",
    "under_70_ratio = under_70/df_duration.count()\n",
    "under_70_ratio "
   ]
  },
  {
   "cell_type": "code",
   "execution_count": 7,
   "id": "external-music",
   "metadata": {},
   "outputs": [
    {
     "data": {
      "text/plain": [
       "0.5622945655277074"
      ]
     },
     "execution_count": 7,
     "metadata": {},
     "output_type": "execute_result"
    }
   ],
   "source": [
    "df_duration.filter(df_duration['segmentDuration'] == 60).count()/df_duration.count()"
   ]
  },
  {
   "cell_type": "code",
   "execution_count": 100,
   "id": "measured-looking",
   "metadata": {},
   "outputs": [
    {
     "data": {
      "image/png": "[encoded data removed]",
      "text/plain": [
       "<Figure size 432x288 with 1 Axes>"
      ]
     },
     "metadata": {
      "needs_background": "light"
     },
     "output_type": "display_data"
    }
   ],
   "source": [
    "'''### DURATION HISTOGRAM ###'''\n",
    "plt.xlim(-10,200)\n",
    "hist(plt.gca(), [df_duration.select('segmentDuration')], bins=list(np.linspace(0, 200)))\n",
    "plt.title('Histogram of Segment Duration (s)')\n",
    "title='Segment Duration (s)'\n",
    "plt.xlabel(title)\n",
    "plt.ylabel('Number of Segments')\n",
    "plt.grid(True)\n",
    "title='SegmentDuration'\n",
    "plt.savefig(f'{title}_histogram.jpg',bbox_inches='tight')"
   ]
  },
  {
   "cell_type": "markdown",
   "id": "valid-concern",
   "metadata": {},
   "source": [
    "<h1> Segment Speed histogram and CDF"
   ]
  },
  {
   "cell_type": "code",
   "execution_count": 4,
   "id": "lesser-bobby",
   "metadata": {},
   "outputs": [],
   "source": [
    "df_speed = df_segments.select('SegmentSpeedKmH')"
   ]
  },
  {
   "cell_type": "code",
   "execution_count": 5,
   "id": "soviet-keeping",
   "metadata": {},
   "outputs": [],
   "source": [
    "df_speed = df_speed.select('SegmentSpeedKmH', F.round(F.col('SegmentSpeedKmH'),2).alias('SegmentSpeedKmH_rounded'))"
   ]
  },
  {
   "cell_type": "code",
   "execution_count": 6,
   "id": "union-petroleum",
   "metadata": {},
   "outputs": [
    {
     "name": "stdout",
     "output_type": "stream",
     "text": [
      "+------------------+-----------------------+\n",
      "|   SegmentSpeedKmH|SegmentSpeedKmH_rounded|\n",
      "+------------------+-----------------------+\n",
      "| 118.5241810554599|                 118.52|\n",
      "| 87.96355579569558|                  87.96|\n",
      "| 63.50430191143995|                   63.5|\n",
      "|106.48236804327686|                 106.48|\n",
      "|106.96962706806568|                 106.97|\n",
      "|109.36229083200946|                 109.36|\n",
      "|111.53136847898955|                 111.53|\n",
      "|110.30616283150182|                 110.31|\n",
      "|107.25546371353025|                 107.26|\n",
      "|101.44841135914244|                 101.45|\n",
      "| 95.62997913017496|                  95.63|\n",
      "|104.05019744497824|                 104.05|\n",
      "| 93.98091572777204|                  93.98|\n",
      "|   73.279879901436|                  73.28|\n",
      "|14.432969287238947|                  14.43|\n",
      "| 53.71259030393771|                  53.71|\n",
      "|53.349292507299054|                  53.35|\n",
      "|35.858005431357476|                  35.86|\n",
      "| 78.75303208927397|                  78.75|\n",
      "|  79.9553817998589|                  79.96|\n",
      "+------------------+-----------------------+\n",
      "only showing top 20 rows\n",
      "\n"
     ]
    }
   ],
   "source": [
    "df_speed.show()"
   ]
  },
  {
   "cell_type": "code",
   "execution_count": 77,
   "id": "czech-arcade",
   "metadata": {},
   "outputs": [],
   "source": [
    "df_speed_percentile = df_speed.agg(F.expr('percentile(SegmentSpeedKmH_rounded, array(0.0))')[0].alias(\"0.0\"),\n",
    "                                 F.expr('percentile(SegmentSpeedKmH_rounded, array(0.06))')[0].alias(\"0.05\"),\n",
    "                                 F.expr('percentile(SegmentSpeedKmH_rounded, array(0.10))')[0].alias(\"0.10\"),\n",
    "                                 F.expr('percentile(SegmentSpeedKmH_rounded, array(0.15))')[0].alias(\"0.15\"),\n",
    "                                 F.expr('percentile(SegmentSpeedKmH_rounded, array(0.20))')[0].alias(\"0.20\"),\n",
    "                                 F.expr('percentile(SegmentSpeedKmH_rounded, array(0.25))')[0].alias(\"0.25\"),\n",
    "                                 F.expr('percentile(SegmentSpeedKmH_rounded, array(0.30))')[0].alias(\"0.30\"),\n",
    "                                 F.expr('percentile(SegmentSpeedKmH_rounded, array(0.35))')[0].alias(\"0.35\"),\n",
    "                                 F.expr('percentile(SegmentSpeedKmH_rounded, array(0.40))')[0].alias(\"0.40\"),\n",
    "                                 F.expr('percentile(SegmentSpeedKmH_rounded, array(0.45))')[0].alias(\"0.45\"),\n",
    "                                 F.expr('percentile(SegmentSpeedKmH_rounded, array(0.50))')[0].alias(\"0.50\"),\n",
    "                                 F.expr('percentile(SegmentSpeedKmH_rounded, array(0.55))')[0].alias(\"0.55\"),\n",
    "                                 F.expr('percentile(SegmentSpeedKmH_rounded, array(0.60))')[0].alias(\"0.60\"),\n",
    "                                 F.expr('percentile(SegmentSpeedKmH_rounded, array(0.65))')[0].alias(\"0.65\"),\n",
    "                                 F.expr('percentile(SegmentSpeedKmH_rounded, array(0.70))')[0].alias(\"0.70\"),\n",
    "                                 F.expr('percentile(SegmentSpeedKmH_rounded, array(0.75))')[0].alias(\"0.75\"),\n",
    "                                 F.expr('percentile(SegmentSpeedKmH_rounded, array(0.80))')[0].alias(\"0.80\"),\n",
    "                                 F.expr('percentile(SegmentSpeedKmH_rounded, array(0.85))')[0].alias(\"0.85\"),\n",
    "                                 F.expr('percentile(SegmentSpeedKmH_rounded, array(0.90))')[0].alias(\"0.90\"),\n",
    "                                 F.expr('percentile(SegmentSpeedKmH_rounded, array(0.91))')[0].alias(\"0.91\"),  \n",
    "                                 F.expr('percentile(SegmentSpeedKmH_rounded, array(0.92))')[0].alias(\"0.92\"),\n",
    "                                 F.expr('percentile(SegmentSpeedKmH_rounded, array(0.93))')[0].alias(\"0.93\"),\n",
    "                                 F.expr('percentile(SegmentSpeedKmH_rounded, array(0.94))')[0].alias(\"0.94\"),\n",
    "                                 F.expr('percentile(SegmentSpeedKmH_rounded, array(0.95))')[0].alias(\"0.95\"),\n",
    "                                 F.expr('percentile(SegmentSpeedKmH_rounded, array(0.96))')[0].alias(\"0.96\"),\n",
    "                                 F.expr('percentile(SegmentSpeedKmH_rounded, array(0.97))')[0].alias(\"0.97\"),\n",
    "                                 F.expr('percentile(SegmentSpeedKmH_rounded, array(0.98))')[0].alias(\"0.98\"),\n",
    "                                 F.expr('percentile(SegmentSpeedKmH_rounded, array(0.99))')[0].alias(\"0.99\"),\n",
    "                                 F.expr('percentile(SegmentSpeedKmH_rounded, array(1.0))')[0].alias(\"1.0\"))"
   ]
  },
  {
   "cell_type": "code",
   "execution_count": 78,
   "id": "written-weekend",
   "metadata": {},
   "outputs": [
    {
     "name": "stdout",
     "output_type": "stream",
     "text": [
      "+---+----+----+----+----+----+----+----+-----+-----+-----+-----+-----+-----+-----+-----+-----+-----+----+-----+-----+-----+-----+-----+-----+-----+------+------+-------+\n",
      "|0.0|0.05|0.10|0.15|0.20|0.25|0.30|0.35| 0.40| 0.45| 0.50| 0.55| 0.60| 0.65| 0.70| 0.75| 0.80| 0.85|0.90| 0.91| 0.92| 0.93| 0.94| 0.95| 0.96| 0.97|  0.98|  0.99|    1.0|\n",
      "+---+----+----+----+----+----+----+----+-----+-----+-----+-----+-----+-----+-----+-----+-----+-----+----+-----+-----+-----+-----+-----+-----+-----+------+------+-------+\n",
      "|0.0|0.06| 0.2|0.54|1.53| 3.6| 6.1|8.79|11.57|14.38|17.28|20.32|23.56|27.07|30.95|35.47|41.01|48.34|59.4|62.59|66.42|71.18|76.97|83.39|89.62|97.95|108.09|120.66|73883.9|\n",
      "+---+----+----+----+----+----+----+----+-----+-----+-----+-----+-----+-----+-----+-----+-----+-----+----+-----+-----+-----+-----+-----+-----+-----+------+------+-------+\n",
      "\n"
     ]
    }
   ],
   "source": [
    "df_speed_percentile.show()"
   ]
  },
  {
   "cell_type": "code",
   "execution_count": 79,
   "id": "equivalent-heading",
   "metadata": {},
   "outputs": [],
   "source": [
    "speed_quantile = df_speed_percentile.toPandas()"
   ]
  },
  {
   "cell_type": "code",
   "execution_count": 80,
   "id": "varying-updating",
   "metadata": {},
   "outputs": [],
   "source": [
    "dic = {}\n",
    "for column in speed_quantile:\n",
    "    dic[column] = speed_quantile[column][0]"
   ]
  },
  {
   "cell_type": "code",
   "execution_count": 81,
   "id": "spatial-offense",
   "metadata": {},
   "outputs": [],
   "source": [
    "x_axis = list(dic.values())\n",
    "y_axis = list(dic.keys())\n",
    "y_axis = [round(float(i)*100,1) for i in y_axis]"
   ]
  },
  {
   "cell_type": "code",
   "execution_count": 89,
   "id": "rotary-granny",
   "metadata": {},
   "outputs": [
    {
     "data": {
      "image/png": "[encoded data removed]",
      "text/plain": [
       "<Figure size 432x288 with 1 Axes>"
      ]
     },
     "metadata": {
      "needs_background": "light"
     },
     "output_type": "display_data"
    }
   ],
   "source": [
    "plt.plot(x_axis, y_axis)\n",
    "plt.xlim(-10,200)\n",
    "plt.yticks(np.arange(0,110,10))\n",
    "plt.title('CDF')\n",
    "plt.xlabel('Segment Speed (KM/H)')\n",
    "plt.ylabel('Percent %')\n",
    "# plt.ylim(0,1)\n",
    "plt.grid(True)\n",
    "plt.vlines(x=130,ymin = 0, ymax = max(y_axis),colors='red', ls=':')\n",
    "title='SegmentSpeedKmH'\n",
    "plt.savefig(f'{title}_CDF.jpg',bbox_inches='tight')\n",
    "plt.show()"
   ]
  },
  {
   "cell_type": "code",
   "execution_count": 84,
   "id": "velvet-latin",
   "metadata": {},
   "outputs": [
    {
     "data": {
      "text/plain": [
       "0.994860945897755"
      ]
     },
     "execution_count": 84,
     "metadata": {},
     "output_type": "execute_result"
    }
   ],
   "source": [
    "under_130 = df_speed.filter(df_speed['SegmentSpeedKmH_rounded'] <= 130).count()\n",
    "under_130_ratio = under_130/df_duration.count()\n",
    "under_130_ratio "
   ]
  },
  {
   "cell_type": "code",
   "execution_count": 8,
   "id": "thirty-slave",
   "metadata": {},
   "outputs": [
    {
     "data": {
      "text/plain": [
       "0.994860945897755"
      ]
     },
     "execution_count": 8,
     "metadata": {},
     "output_type": "execute_result"
    }
   ],
   "source": [
    "df_speed.filter(df_speed['SegmentSpeedKmH_rounded'] <= 130).count()/df_speed.count()"
   ]
  },
  {
   "cell_type": "code",
   "execution_count": 9,
   "id": "entitled-minimum",
   "metadata": {},
   "outputs": [
    {
     "data": {
      "text/plain": [
       "0.027264246158177862"
      ]
     },
     "execution_count": 9,
     "metadata": {},
     "output_type": "execute_result"
    }
   ],
   "source": [
    "df_speed.filter(df_speed['SegmentSpeedKmH_rounded'] == 0.0 ).count()/df_speed.count()"
   ]
  },
  {
   "cell_type": "code",
   "execution_count": 90,
   "id": "domestic-yukon",
   "metadata": {},
   "outputs": [
    {
     "data": {
      "image/png": "[encoded data removed]",
      "text/plain": [
       "<Figure size 432x288 with 1 Axes>"
      ]
     },
     "metadata": {
      "needs_background": "light"
     },
     "output_type": "display_data"
    }
   ],
   "source": [
    "'''### SPEED HISTOGRAM ###'''\n",
    "plt.xlim(-10,200)\n",
    "hist(plt.gca(), [df_speed.select('SegmentSpeedKmH_rounded')], bins=list(np.linspace(0, 200)))\n",
    "plt.title('Histogram of Segment Speed (KM/H)')\n",
    "title='Segment Speed (KM/H)'\n",
    "plt.xlabel(title)\n",
    "plt.ylabel('Number of Segments')\n",
    "plt.ylim(0,90000000,10000000)\n",
    "plt.grid(True)\n",
    "title='SegmentSpeedKmH'\n",
    "plt.savefig(f'{title}_histogram.jpg',bbox_inches='tight')"
   ]
  },
  {
   "cell_type": "markdown",
   "id": "identical-caution",
   "metadata": {},
   "source": [
    "<h1> GPS Accuracy"
   ]
  },
  {
   "cell_type": "code",
   "execution_count": 25,
   "id": "individual-arrest",
   "metadata": {},
   "outputs": [],
   "source": [
    "#GPS accuracy\n",
    " \n",
    "schema_inital_segment = 'idRequest string, deviceId string, dateTime timestamp, \\\n",
    "latitude double, longitude double, speedKmh Integer, heading Integer,\\\n",
    "accuracyDrop double, EngineStatus Integer, Type Integer, segmentDistance double,\\\n",
    "segmentDuration double, segmentSpeedKmH double'\n",
    "#reading csv\n",
    "path = os.path.abspath(os.getcwd())\n",
    "df_gps = spark.read.csv('file:///%s/all_merged_no_filter/*'%path,sep=\",\", schema = schema_inital_segment)"
   ]
  },
  {
   "cell_type": "code",
   "execution_count": 26,
   "id": "chinese-delhi",
   "metadata": {},
   "outputs": [],
   "source": [
    "df_gps = df_gps.distinct()\n",
    "df_gps = df_gps.na.drop(\"any\")"
   ]
  },
  {
   "cell_type": "code",
   "execution_count": 27,
   "id": "secondary-lloyd",
   "metadata": {},
   "outputs": [
    {
     "name": "stdout",
     "output_type": "stream",
     "text": [
      "+---------+--------+-------------------+--------+---------+--------+-------+------------+------------+----+---------------+---------------+-------------------+\n",
      "|idRequest|deviceId|           dateTime|latitude|longitude|speedKmh|heading|accuracyDrop|EngineStatus|Type|segmentDistance|segmentDuration|    segmentSpeedKmH|\n",
      "+---------+--------+-------------------+--------+---------+--------+-------+------------+------------+----+---------------+---------------+-------------------+\n",
      "|        1| 2835402|2019-07-01 11:04:48|45.07664|  7.59477|       0|      0|         2.0|           1|   2|           43.2|          604.0| 0.2574961790891448|\n",
      "|        1| 3170232|2019-07-03 10:48:48|45.11666| 7.632861|      51|    250|         9.0|           1|   1|         139.87|           44.0|  11.44411828679633|\n",
      "|        1| 3170232|2019-07-03 19:13:40|45.11201| 7.642949|      32|     96|         8.0|           1|   1|         263.45|           17.0|  55.78892279704277|\n",
      "|        1| 3170232|2019-07-11 18:44:23|45.11549| 7.624944|      26|    240|         8.0|           1|   1|         235.27|           60.0|  14.11633598290098|\n",
      "|        1| 3170232|2019-07-17 20:07:34|45.11488| 7.637921|      17|     22|         9.0|           1|   1|           7.24|            2.0| 13.040696952538271|\n",
      "|        1| 3170232|2019-07-26 08:44:51|45.10878| 7.610903|      89|     56|        12.0|           1|   1|         223.22|            9.0|  89.28984864906673|\n",
      "|        1| 3173903|2019-06-13 14:02:56| 45.1054| 7.663943|       0|      0|        10.0|           1|   1|         445.78|           60.0| 26.746889511886163|\n",
      "|        1| 3173903|2019-06-18 13:01:25|  45.105| 7.672803|      22|    274|        12.0|           1|   1|          60.33|           54.0|  4.022164017429312|\n",
      "|        1| 3173903|2019-07-04 19:06:03|45.18484| 7.725116|       0|      0|        10.0|           1|   1|          79.29|           60.0|  4.757508121862354|\n",
      "|        1| 3173903|2019-07-06 18:45:45|45.18122| 7.709092|      26|    134|         9.0|           1|   1|          476.0|           60.0|  28.56008708691596|\n",
      "|        1| 3173903|2019-07-13 10:12:54|45.02157| 7.595574|      83|    202|        10.0|           1|   1|        1561.18|           60.0|  93.67085573699168|\n",
      "|        1| 3173903|2019-07-29 12:13:14|45.00039| 7.694045|      47|    282|        11.0|           1|   1|          713.6|           60.0|  42.81614287802753|\n",
      "|        1| 3173903|2019-07-29 12:51:28|45.09888| 7.636175|      69|     48|        11.0|           1|   1|         565.67|           60.0|  33.94026064428901|\n",
      "|        1| 3173903|2019-07-31 12:55:22| 45.1123| 7.617952|      88|    236|        11.0|           1|   1|        1594.56|           60.0|  95.67357773775699|\n",
      "|        1| 3173903|2019-07-31 13:19:22|45.05339| 7.666842|       0|      0|        10.0|           1|   1|         147.41|           60.0|  8.844465413033321|\n",
      "|        1| 3206548|2019-07-10 22:44:33| 45.0253|  7.57897|       0|      0|         8.0|           0|   1|           0.32|           55.0|0.02063444806220959|\n",
      "|        1| 3206548|2019-07-12 21:19:06| 45.0395| 7.519376|      33|    120|         9.0|           1|   1|          13.91|            2.0|  25.04623363672098|\n",
      "|        1| 3206548|2019-07-15 11:08:38|45.02221| 7.649289|      51|    106|        13.0|           1|   1|         768.56|           60.0|  46.11376586319497|\n",
      "|        1| 3206548|2019-07-17 09:21:10|45.03786| 7.518082|       0|      0|        18.0|           1|   1|           0.08|            3.0|0.09455387065684426|\n",
      "|        1| 3206548|2019-07-22 19:10:38| 45.0705| 7.727576|       0|      0|         8.0|           1|   1|           2.61|           60.0|0.15665030033313102|\n",
      "+---------+--------+-------------------+--------+---------+--------+-------+------------+------------+----+---------------+---------------+-------------------+\n",
      "only showing top 20 rows\n",
      "\n"
     ]
    }
   ],
   "source": [
    "df_gps.show()"
   ]
  },
  {
   "cell_type": "code",
   "execution_count": 28,
   "id": "periodic-interface",
   "metadata": {},
   "outputs": [],
   "source": [
    "df_gps_percentile = df_gps.agg(F.expr('percentile(accuracyDrop, array(0.0))')[0].alias(\"0.0\"),\n",
    "                                 F.expr('percentile(accuracyDrop, array(0.06))')[0].alias(\"0.05\"),\n",
    "                                 F.expr('percentile(accuracyDrop, array(0.10))')[0].alias(\"0.10\"),\n",
    "                                 F.expr('percentile(accuracyDrop, array(0.15))')[0].alias(\"0.15\"),\n",
    "                                 F.expr('percentile(accuracyDrop, array(0.20))')[0].alias(\"0.20\"),\n",
    "                                 F.expr('percentile(accuracyDrop, array(0.25))')[0].alias(\"0.25\"),\n",
    "                                 F.expr('percentile(accuracyDrop, array(0.30))')[0].alias(\"0.30\"),\n",
    "                                 F.expr('percentile(accuracyDrop, array(0.35))')[0].alias(\"0.35\"),\n",
    "                                 F.expr('percentile(accuracyDrop, array(0.40))')[0].alias(\"0.40\"),\n",
    "                                 F.expr('percentile(accuracyDrop, array(0.45))')[0].alias(\"0.45\"),\n",
    "                                 F.expr('percentile(accuracyDrop, array(0.50))')[0].alias(\"0.50\"),\n",
    "                                 F.expr('percentile(accuracyDrop, array(0.55))')[0].alias(\"0.55\"),\n",
    "                                 F.expr('percentile(accuracyDrop, array(0.60))')[0].alias(\"0.60\"),\n",
    "                                 F.expr('percentile(accuracyDrop, array(0.65))')[0].alias(\"0.65\"),\n",
    "                                 F.expr('percentile(accuracyDrop, array(0.70))')[0].alias(\"0.70\"),\n",
    "                                 F.expr('percentile(accuracyDrop, array(0.75))')[0].alias(\"0.75\"),\n",
    "                                 F.expr('percentile(accuracyDrop, array(0.80))')[0].alias(\"0.80\"),\n",
    "                                 F.expr('percentile(accuracyDrop, array(0.85))')[0].alias(\"0.85\"),\n",
    "                                 F.expr('percentile(accuracyDrop, array(0.90))')[0].alias(\"0.90\"),\n",
    "                                 F.expr('percentile(accuracyDrop, array(0.91))')[0].alias(\"0.91\"),  \n",
    "                                 F.expr('percentile(accuracyDrop, array(0.92))')[0].alias(\"0.92\"),\n",
    "                                 F.expr('percentile(accuracyDrop, array(0.93))')[0].alias(\"0.93\"),\n",
    "                                 F.expr('percentile(accuracyDrop, array(0.94))')[0].alias(\"0.94\"),\n",
    "                                 F.expr('percentile(accuracyDrop, array(0.95))')[0].alias(\"0.95\"),\n",
    "                                 F.expr('percentile(accuracyDrop, array(0.96))')[0].alias(\"0.96\"),\n",
    "                                 F.expr('percentile(accuracyDrop, array(0.97))')[0].alias(\"0.97\"),\n",
    "                                 F.expr('percentile(accuracyDrop, array(0.98))')[0].alias(\"0.98\"),\n",
    "                                 F.expr('percentile(accuracyDrop, array(0.99))')[0].alias(\"0.99\"),\n",
    "                                 F.expr('percentile(accuracyDrop, array(1.0))')[0].alias(\"1.0\"))"
   ]
  },
  {
   "cell_type": "code",
   "execution_count": 29,
   "id": "balanced-honor",
   "metadata": {},
   "outputs": [
    {
     "name": "stdout",
     "output_type": "stream",
     "text": [
      "+---+----+----+----+----+----+----+----+----+----+----+----+----+----+----+----+----+----+----+----+----+----+----+----+----+----+----+----+----+\n",
      "|0.0|0.05|0.10|0.15|0.20|0.25|0.30|0.35|0.40|0.45|0.50|0.55|0.60|0.65|0.70|0.75|0.80|0.85|0.90|0.91|0.92|0.93|0.94|0.95|0.96|0.97|0.98|0.99| 1.0|\n",
      "+---+----+----+----+----+----+----+----+----+----+----+----+----+----+----+----+----+----+----+----+----+----+----+----+----+----+----+----+----+\n",
      "|0.0| 6.0| 7.0| 8.0| 8.0| 9.0| 9.0| 9.0| 9.0|10.0|10.0|11.0|11.0|12.0|12.0|13.0|14.0|15.0|17.0|18.0|18.0|19.0|20.0|22.0|23.0|26.0|29.0|33.0|50.0|\n",
      "+---+----+----+----+----+----+----+----+----+----+----+----+----+----+----+----+----+----+----+----+----+----+----+----+----+----+----+----+----+\n",
      "\n"
     ]
    }
   ],
   "source": [
    "df_gps_percentile.show()"
   ]
  },
  {
   "cell_type": "code",
   "execution_count": 30,
   "id": "universal-bunch",
   "metadata": {},
   "outputs": [],
   "source": [
    "gps_percentile = df_gps_percentile.toPandas()"
   ]
  },
  {
   "cell_type": "code",
   "execution_count": 31,
   "id": "lightweight-objective",
   "metadata": {},
   "outputs": [],
   "source": [
    "dic = {}\n",
    "for column in gps_percentile:\n",
    "    dic[column] = gps_percentile[column][0]"
   ]
  },
  {
   "cell_type": "code",
   "execution_count": 32,
   "id": "hourly-bullet",
   "metadata": {},
   "outputs": [],
   "source": [
    "x_axis = list(dic.values())\n",
    "x_axis = [round(float(i)/10,1) for i in x_axis]\n",
    "y_axis = list(dic.keys())\n",
    "y_axis = [round(float(i)*100,1) for i in y_axis]"
   ]
  },
  {
   "cell_type": "code",
   "execution_count": 13,
   "id": "republican-lindsay",
   "metadata": {},
   "outputs": [
    {
     "data": {
      "image/png": "[encoded data removed]",
      "text/plain": [
       "<Figure size 432x288 with 1 Axes>"
      ]
     },
     "metadata": {
      "needs_background": "light"
     },
     "output_type": "display_data"
    }
   ],
   "source": [
    "plt.plot(x_axis, y_axis)\n",
    "# plt.xlim(-10,200)\n",
    "plt.yticks(np.arange(0,110,10))\n",
    "plt.title('CDF')\n",
    "plt.xlabel('Accuracy DOP')\n",
    "plt.ylabel('Percent %')\n",
    "# plt.ylim(0,1)\n",
    "plt.grid(True)\n",
    "plt.vlines(x=2,ymin = 0, ymax = max(y_axis),colors='red', ls=':')\n",
    "title='accuracy DOP'\n",
    "# plt.savefig(f'{title}_CDF.jpg',bbox_inches='tight')\n",
    "plt.show()"
   ]
  },
  {
   "cell_type": "code",
   "execution_count": 14,
   "id": "radical-courtesy",
   "metadata": {},
   "outputs": [
    {
     "data": {
      "text/plain": [
       "0.9409568856874405"
      ]
     },
     "execution_count": 14,
     "metadata": {},
     "output_type": "execute_result"
    }
   ],
   "source": [
    "under_20 = df_gps.filter(df_gps['accuracyDrop'] <= 20).count()\n",
    "under_20_ratio = under_20/df_gps.count()\n",
    "under_20_ratio "
   ]
  },
  {
   "cell_type": "code",
   "execution_count": 33,
   "id": "finite-student",
   "metadata": {},
   "outputs": [],
   "source": [
    "df_gps = df_gps.withColumn('accuracyDrop', F.col('accuracyDrop')/10)"
   ]
  },
  {
   "cell_type": "code",
   "execution_count": 39,
   "id": "given-hardwood",
   "metadata": {},
   "outputs": [
    {
     "data": {
      "image/png": "[encoded data removed]",
      "text/plain": [
       "<Figure size 432x288 with 1 Axes>"
      ]
     },
     "metadata": {
      "needs_background": "light"
     },
     "output_type": "display_data"
    }
   ],
   "source": [
    "'''### GPS HISTOGRAM ###'''\n",
    "plt.xlim(0,6)\n",
    "# df_gps = df_gps.withColumn('accuracyDrop', F.col('accuracyDrop')/10)\n",
    "hist(plt.gca(), [df_gps.select('accuracyDrop')], bins=list(np.linspace(0, 10)))\n",
    "plt.title('Histogram of Accuracy DOP')\n",
    "# title='Accuracy Drop'\n",
    "plt.xlabel(title)\n",
    "plt.ylabel('Number of Segments')\n",
    "# plt.ylim(0,90000000,10000000)\n",
    "plt.grid(True)\n",
    "title='accuracy DOP'\n",
    "plt.savefig(f'{title}_histogram.jpg',bbox_inches='tight')"
   ]
  },
  {
   "cell_type": "code",
   "execution_count": 35,
   "id": "square-differential",
   "metadata": {},
   "outputs": [
    {
     "name": "stdout",
     "output_type": "stream",
     "text": [
      "+---------+--------+-------------------+--------+---------+--------+-------+------------+------------+----+---------------+---------------+-------------------+\n",
      "|idRequest|deviceId|           dateTime|latitude|longitude|speedKmh|heading|accuracyDrop|EngineStatus|Type|segmentDistance|segmentDuration|    segmentSpeedKmH|\n",
      "+---------+--------+-------------------+--------+---------+--------+-------+------------+------------+----+---------------+---------------+-------------------+\n",
      "|        1| 2509187|2019-11-03 16:22:36|45.07973|  7.59377|     185|     96|         0.2|           1|   2|         513.67|           10.0|  184.9198483681491|\n",
      "|        1| 2509187|2019-11-05 11:20:21|45.05768|  7.51737|     172|    118|         0.1|           1|   2|         144.77|            3.0|  173.7205554036505|\n",
      "|        1| 2509187|2019-11-06 12:43:41|45.08833|  7.58725|     144|    276|         0.1|           1|   2|         739.49|           19.0|  140.1144851484489|\n",
      "|        1| 2509187|2019-11-06 12:52:15|45.08751|  7.59958|      20|     86|         0.1|           1|   2|          65.58|           32.0|  7.377642740530743|\n",
      "|        1| 2509187|2019-11-08 15:41:19|45.04493|  7.52564|     207|    176|         0.1|           1|   2|         114.74|            2.0|  206.5274134547448|\n",
      "|        1| 2509187|2019-11-08 17:08:41|45.08702|  7.60906|       0|    152|         0.1|           1|   2|            0.0|           29.0|                0.0|\n",
      "|        1| 2509187|2019-11-10 10:15:06|45.05497|  7.57506|     185|     96|         0.1|           1|   2|        1218.17|           24.0| 182.72515997257344|\n",
      "|        1| 2509187|2019-11-10 14:38:46|45.08585|  7.61006|       0|    128|         0.1|           1|   2|            0.0|           30.0|                0.0|\n",
      "|        1| 2509187|2019-11-13 11:34:24|45.08589|  7.61003|       0|    256|         0.1|           1|   2|           1.11|           30.0|0.13336014720375114|\n",
      "|        1| 2509187|2019-11-13 12:32:51|45.08679|   7.6004|      69|    280|         0.1|           1|   2|        1162.54|           39.0| 107.31134205747244|\n",
      "|        1| 2509187|2019-11-13 12:36:12|45.08668|  7.60898|       0|     20|         0.1|           1|   2|           30.2|           30.0|  3.623549719518634|\n",
      "|        1| 2509187|2019-11-17 14:42:51|45.08677|   7.6088|       0|    184|         0.1|           1|   2|           1.11|           31.0| 0.1290582268112558|\n",
      "|        1| 2509187|2019-11-29 12:42:10|45.08674|  7.60902|       0|    312|         0.1|           1|   2|           1.57|           27.0|0.20994074387003042|\n",
      "|        1| 2509484|2019-11-04 19:40:30|45.03291|  7.64595|      39|    130|         0.1|           1|   2|        1308.34|          336.0| 14.017944619263883|\n",
      "|        1| 2509484|2019-11-08 18:50:36|45.01705|  7.66807|      30|    156|         0.1|           1|   2|          47.24|            8.0| 21.255780397494817|\n",
      "|        1| 2509484|2019-11-19 08:03:46|45.00239|   7.6758|      31|    358|         0.1|           1|   2|        1044.95|          212.0| 17.744386339971662|\n",
      "|        1| 2509484|2019-11-20 19:02:49|44.99534|  7.71403|      11|     16|         0.1|           1|   2|        1950.21|          274.0| 25.623181455405586|\n",
      "|        1| 2509484|2019-11-28 15:28:59|45.04602|  7.66323|       0|    316|         0.3|           1|   2|         200.59|           52.0| 13.887040814169689|\n",
      "|        1| 2830724|2019-11-14 08:00:20|45.13468|  7.70822|      54|    272|         0.1|           1|   2|         492.14|           33.0| 53.688467503584356|\n",
      "|        1| 2830724|2019-11-21 11:26:32|45.12869|  7.68669|      83|     82|         0.1|           1|   2|         515.03|           22.0|  84.27792202679387|\n",
      "+---------+--------+-------------------+--------+---------+--------+-------+------------+------------+----+---------------+---------------+-------------------+\n",
      "only showing top 20 rows\n",
      "\n"
     ]
    }
   ],
   "source": [
    "df_gps.show()"
   ]
  },
  {
   "cell_type": "markdown",
   "id": "instant-wedding",
   "metadata": {},
   "source": [
    "<H1> CDF segment duration under 60 seconds breakdown"
   ]
  },
  {
   "cell_type": "code",
   "execution_count": 133,
   "id": "minor-primary",
   "metadata": {},
   "outputs": [],
   "source": [
    "#dataframe division into intervals\n",
    "duration_0_9 = df_segments.filter(df_segments['segmentDuration'] < 10)\n",
    "duration_10_19 = df_segments.filter((df_segments['segmentDuration'] < 20) & (df_segments['segmentDuration'] >= 10))\n",
    "duration_20_29 = df_segments.filter((df_segments['segmentDuration'] < 30) & (df_segments['segmentDuration'] >= 20))\n",
    "duration_30_39 = df_segments.filter((df_segments['segmentDuration'] < 40) & (df_segments['segmentDuration'] >= 30))\n",
    "duration_40_49 = df_segments.filter((df_segments['segmentDuration'] < 50) & (df_segments['segmentDuration'] >= 40))\n",
    "duration_50_59 = df_segments.filter((df_segments['segmentDuration'] < 60) & (df_segments['segmentDuration'] >= 50))"
   ]
  },
  {
   "cell_type": "code",
   "execution_count": 134,
   "id": "noted-montgomery",
   "metadata": {},
   "outputs": [],
   "source": [
    "#converting them into arrays\n",
    "array_0_9 = [val.segmentSpeedKmH for val in duration_0_9.select('segmentSpeedKmH').collect()]\n",
    "array_10_19 = [val.segmentSpeedKmH for val in duration_10_19.select('segmentSpeedKmH').collect()]\n",
    "array_20_29 = [val.segmentSpeedKmH for val in duration_20_29.select('segmentSpeedKmH').collect()]\n",
    "array_30_39 = [val.segmentSpeedKmH for val in duration_30_39.select('segmentSpeedKmH').collect()]\n",
    "array_40_49 = [val.segmentSpeedKmH for val in duration_40_49.select('segmentSpeedKmH').collect()]\n",
    "array_50_59 = [val.segmentSpeedKmH for val in duration_50_59.select('segmentSpeedKmH').collect()]\n"
   ]
  },
  {
   "cell_type": "code",
   "execution_count": 135,
   "id": "developmental-amber",
   "metadata": {},
   "outputs": [],
   "source": [
    "duration_arrays = [array_0_9,array_10_19,array_20_29,array_30_39,array_40_49,array_50_59]"
   ]
  },
  {
   "cell_type": "code",
   "execution_count": 137,
   "id": "touched-experience",
   "metadata": {},
   "outputs": [
    {
     "name": "stderr",
     "output_type": "stream",
     "text": [
      "No artists with labels found to put in legend.  Note that artists whose label start with an underscore are ignored when legend() is called with no argument.\n"
     ]
    },
    {
     "data": {
      "image/png": "[encoded data removed]",
      "text/plain": [
       "<Figure size 460.8x345.6 with 1 Axes>"
      ]
     },
     "metadata": {
      "needs_background": "light"
     },
     "output_type": "display_data"
    }
   ],
   "source": [
    "plt.rcParams[\"figure.figsize\"] = (6.4, 4.8)\n",
    "label = ['0-9 seconds','10-19 seconds','20-29 seconds','30-39 seconds','40-49 seconds','50-59 seconds']\n",
    "for i,array in enumerate(duration_arrays):\n",
    "    plt.legend(loc='upper right',prop={'size': 12})\n",
    "    x = np.sort(array)\n",
    "    y = (1. * np.arange(len(x)) / (len(x) - 1))*100\n",
    "    plt.plot(x, y,label = label[i])\n",
    "    plt.title('CDF of Segment Speed for Different Segment Duration intervals')\n",
    "#     plt.xlabel(title)\n",
    "    plt.ylabel('Percent %')\n",
    "    # plt.ylim(0,1)\n",
    "    plt.xlim(-10,130)\n",
    "    plt.xlabel('Segment Speed (KM/H)')\n",
    "    plt.legend()\n",
    "    plt.grid(True)\n",
    "    title='SegmentSpeedKmH'\n",
    "    \n",
    "plt.savefig(f'under_60_CDF.jpg',bbox_inches='tight')\n",
    "plt.show()"
   ]
  }
 ],
 "metadata": {
  "kernelspec": {
   "display_name": "Python 3 (ipykernel)",
   "language": "python",
   "name": "python3"
  },
  "language_info": {
   "codemirror_mode": {
    "name": "ipython",
    "version": 3
   },
   "file_extension": ".py",
   "mimetype": "text/x-python",
   "name": "python",
   "nbconvert_exporter": "python",
   "pygments_lexer": "ipython3",
   "version": "3.8.8"
  }
 },
 "nbformat": 4,
 "nbformat_minor": 5
}
