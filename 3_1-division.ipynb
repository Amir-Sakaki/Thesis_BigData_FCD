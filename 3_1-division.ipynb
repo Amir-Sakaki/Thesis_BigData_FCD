{
 "cells": [
  {
   "cell_type": "code",
   "execution_count": 1,
   "id": "crucial-catalog",
   "metadata": {},
   "outputs": [],
   "source": [
    "from pyspark.sql import functions as F\n",
    "import matplotlib.pyplot as plt\n",
    "from pyspark.sql.types import *\n",
    "import seaborn as sns\n",
    "import pandas as pd\n",
    "import numpy as np\n",
    "import geopy.distance\n",
    "import matplotlib\n",
    "import datetime\n",
    "import pickle\n",
    "import os\n",
    "\n",
    "import fastplot\n",
    "%matplotlib inline"
   ]
  },
  {
   "cell_type": "markdown",
   "id": "further-ultimate",
   "metadata": {},
   "source": [
    "<h2>1-reading segment table</h2>"
   ]
  },
  {
   "cell_type": "code",
   "execution_count": 2,
   "id": "comprehensive-defense",
   "metadata": {},
   "outputs": [],
   "source": [
    "#schema of segment table\n",
    "schema_segments ='deviceId String,\\\n",
    "                  type Integer,\\\n",
    "                  dateTime string,\\\n",
    "                  startLatitude double,\\\n",
    "                  startLongitude double,\\\n",
    "                  startEngineStatus Integer,\\\n",
    "                  startAccuracyDrop Integer,\\\n",
    "                  endAccuracyDrop Integer,\\\n",
    "                  endEngineStatus Integer,\\\n",
    "                  endLatitude double,\\\n",
    "                  endLongitude double,\\\n",
    "                  segmentDistance double,\\\n",
    "                  segmentDuration double,\\\n",
    "                  segmentSpeedKmH double,\\\n",
    "                  xtmp double,\\\n",
    "                  ytmp double,\\\n",
    "                  start_x integer,\\\n",
    "                  start_y integer,\\\n",
    "                  end_x integer,\\\n",
    "                  end_y integer,\\\n",
    "                  cell_id_start string,\\\n",
    "                  cell_id_end string'\n",
    "#reading csv\n",
    "path = os.path.abspath(os.getcwd())\n",
    "df_segments = spark.read.csv('file:///%s/segment_table'%path,sep=\",\", schema = schema_segments)"
   ]
  },
  {
   "cell_type": "code",
   "execution_count": 3,
   "id": "british-asbestos",
   "metadata": {},
   "outputs": [
    {
     "name": "stdout",
     "output_type": "stream",
     "text": [
      "+--------+----+-------------------+-------------+--------------+-----------------+-----------------+---------------+---------------+-----------+------------+---------------+---------------+------------------+------------------+------------------+-------+-------+-----+-----+-------------+-----------+\n",
      "|deviceId|type|           dateTime|startLatitude|startLongitude|startEngineStatus|startAccuracyDrop|endAccuracyDrop|endEngineStatus|endLatitude|endLongitude|segmentDistance|segmentDuration|   segmentSpeedKmH|              xtmp|              ytmp|start_x|start_y|end_x|end_y|cell_id_start|cell_id_end|\n",
      "+--------+----+-------------------+-------------+--------------+-----------------+-----------------+---------------+---------------+-----------+------------+---------------+---------------+------------------+------------------+------------------+-------+-------+-----+-----+-------------+-----------+\n",
      "| 2507794|   2|2019-09-11 00:33:16|     45.01898|        7.5937|                1|                1|              1|              1|   45.02081|     7.59541|         243.98|           12.0| 73.19394219135512| 73.47608329257734| 64.55298507473218|     73|     63|   74|   65|        63_73|      65_74|\n",
      "| 2507794|   2|2019-09-11 00:52:13|     45.13059|       7.72865|                1|                1|              1|              1|   45.13918|     7.74338|         1501.3|           66.0| 81.88903718357363| 189.9287937873343|196.32186632692873|    179|    187|  190|  197|      187_179|    197_190|\n",
      "| 2507794|   2|2019-09-25 04:48:57|     45.18527|       7.73372|                1|                2|              2|              1|   45.18534|      7.7326|          88.37|           14.0|22.722801354464934|181.44491043845593| 247.7069432771713|    183|    248|  182|  248|      248_183|    248_182|\n",
      "| 2507794|   2|2019-09-25 04:49:11|     45.18534|        7.7326|                1|                2|              2|              1|    45.1847|     7.73082|         156.94|           23.0| 24.56423835184993|180.04404658307524|246.99449853609653|    182|    248|  181|  247|      248_182|    247_181|\n",
      "| 2507794|   2|2019-09-25 04:49:34|      45.1847|       7.73082|                1|                2|              1|              1|   45.18469|     7.72387|         546.22|           44.0| 44.69099340747682| 174.5743815297635|246.98336658702158|    181|    247|  175|  247|      247_181|    247_175|\n",
      "| 2507794|   2|2019-09-25 04:50:18|     45.18469|       7.72387|                1|                1|              1|              1|   45.18337|     7.72379|         146.83|           17.0| 31.09412617096535|174.51142135648826|245.51394930854056|    175|    247|  175|  246|      247_175|    246_175|\n",
      "| 2507794|   2|2019-09-25 04:50:35|     45.18337|       7.72379|                1|                1|              1|              1|   45.18113|     7.72196|         287.51|           19.0| 54.47498953997172|173.07120739281046|  243.020392714775|    175|    246|  174|  244|      246_175|    244_174|\n",
      "| 2507794|   2|2019-09-25 04:50:54|     45.18113|       7.72196|                1|                1|              1|              1|   45.17805|      7.7194|         397.06|           38.0| 37.61601896315923| 171.0564818479935|239.59175239833252|    174|    244|  172|  240|      244_174|    240_172|\n",
      "| 2507794|   2|2019-09-25 04:51:32|     45.17805|        7.7194|                1|                1|              2|              1|   45.17772|     7.72073|         110.79|           12.0| 33.23630678231461|172.10319472869875| 239.2243980787162|    172|    240|  173|  240|      240_172|    240_173|\n",
      "| 2507794|   2|2019-09-25 04:51:44|     45.17772|       7.72073|                1|                2|              1|              1|   45.17693|     7.72401|         272.36|           30.0| 32.68293115590693| 174.6845618329957|238.34497410144579|    173|    240|  175|  239|      240_173|    239_175|\n",
      "+--------+----+-------------------+-------------+--------------+-----------------+-----------------+---------------+---------------+-----------+------------+---------------+---------------+------------------+------------------+------------------+-------+-------+-----+-----+-------------+-----------+\n",
      "\n"
     ]
    }
   ],
   "source": [
    "df_segments = df_segments.withColumn('dateTime', F.to_timestamp('dateTime'))\n",
    "# df_segments.count()\n",
    "df_segments.limit(10).show()"
   ]
  },
  {
   "cell_type": "markdown",
   "id": "opposite-petroleum",
   "metadata": {},
   "source": [
    "## converting dates to hour"
   ]
  },
  {
   "cell_type": "code",
   "execution_count": 4,
   "id": "liked-driving",
   "metadata": {},
   "outputs": [],
   "source": [
    "@F.udf()\n",
    "def hour_extraction(dateTime):\n",
    "    hour = dateTime.hour\n",
    "    return hour\n",
    "\n",
    "df_segments = df_segments.withColumn('dateTime', hour_extraction('dateTime'))"
   ]
  },
  {
   "cell_type": "code",
   "execution_count": 5,
   "id": "floral-qualification",
   "metadata": {},
   "outputs": [
    {
     "name": "stdout",
     "output_type": "stream",
     "text": [
      "+--------+----+--------+-------------+--------------+-----------------+-----------------+---------------+---------------+-----------+------------+---------------+---------------+------------------+------------------+------------------+-------+-------+-----+-----+-------------+-----------+\n",
      "|deviceId|type|dateTime|startLatitude|startLongitude|startEngineStatus|startAccuracyDrop|endAccuracyDrop|endEngineStatus|endLatitude|endLongitude|segmentDistance|segmentDuration|   segmentSpeedKmH|              xtmp|              ytmp|start_x|start_y|end_x|end_y|cell_id_start|cell_id_end|\n",
      "+--------+----+--------+-------------+--------------+-----------------+-----------------+---------------+---------------+-----------+------------+---------------+---------------+------------------+------------------+------------------+-------+-------+-----+-----+-------------+-----------+\n",
      "| 4305513|   1|      19|     45.09819|      7.661505|                1|               19|             18|              1|   45.09801|    7.661415|         241.57|           38.0|22.885138371971212|125.42216125572119|150.49163196727002|    126|    151|  126|  151|      151_126|    151_126|\n",
      "| 4305513|   1|       9|     45.09843|      7.660137|                1|               12|             12|              1|   45.09768|    7.662542|         206.84|           57.0|13.063591072972876|126.30911269674051|150.12427764764584|    125|    151|  127|  151|      151_125|    151_127|\n",
      "| 4305513|   1|       9|     45.09768|      7.662542|                1|               12|             12|              1|   45.09664|    7.662993|         120.91|           60.0| 7.254479997753372|126.66405067358131|148.96655494339836|    127|    151|  127|  149|      151_127|    149_127|\n",
      "| 4305513|   1|       9|     45.09664|      7.662993|                1|               12|             12|              0|   45.09598|     7.66305|          73.49|           30.0| 8.818237758782455| 126.7089097970401|148.23184630415787|    127|    149|  127|  149|      149_127|    149_127|\n",
      "| 4305513|   1|       9|     45.09596|      7.663087|                1|               12|             12|              1|   45.09349|    7.662735|         275.89|           59.0|16.834269434957225| 126.4610041147673|145.45999098340738|    127|    149|  127|  146|      149_127|    146_127|\n",
      "| 4305513|   1|       9|     45.09349|      7.662735|                1|               12|             12|              1|   45.09334|    7.662756|          16.75|           60.0|1.0051082765651596|126.47753116025234| 145.2930117472117|    127|    146|  127|  146|      146_127|    146_127|\n",
      "| 4305513|   1|       9|     45.09334|      7.662756|                1|               12|             12|              1|   45.09226|    7.662734|         120.04|           60.0| 7.202206310016038|126.46021711260194|144.09076124664855|    127|    146|  127|  145|      146_127|    145_127|\n",
      "| 4305513|   1|       9|     45.09226|      7.662734|                1|               12|             12|              1|   45.09022|    7.660325|         295.57|           60.0|17.734237577681064|124.56432889484239|141.81984363446142|    127|    145|  125|  142|      145_127|    142_125|\n",
      "| 4305513|   1|       9|     45.09022|      7.660325|                1|               12|             12|              1|   45.08592|    7.656067|         583.72|           60.0| 35.02339163370379|121.21327367225209|137.03310553034297|    125|    142|  122|  138|      142_125|    138_122|\n",
      "| 4305513|   1|       9|     45.08592|      7.656067|                1|               12|             18|              1|    45.0836|    7.658415|         317.25|           60.0|19.035137178027973|123.06115475788863| 134.4504933439302|    122|    138|  124|  135|      138_122|    135_124|\n",
      "+--------+----+--------+-------------+--------------+-----------------+-----------------+---------------+---------------+-----------+------------+---------------+---------------+------------------+------------------+------------------+-------+-------+-----+-----+-------------+-----------+\n",
      "\n"
     ]
    }
   ],
   "source": [
    "df_segments.limit(10).show()"
   ]
  },
  {
   "cell_type": "markdown",
   "id": "level-relations",
   "metadata": {},
   "source": [
    "<span style=\"font-size: 14pt\">time slot division over 24h period<br>\n",
    "#off_peak: 1-6<br>\n",
    "#peak_1 : 9-11<br>\n",
    "#peak_2 : 18-20</span>"
   ]
  },
  {
   "cell_type": "markdown",
   "id": "desirable-hello",
   "metadata": {},
   "source": [
    "<h2>2-creating segment tables based peak and not peak hours</h2>"
   ]
  },
  {
   "cell_type": "code",
   "execution_count": 6,
   "id": "guilty-karaoke",
   "metadata": {},
   "outputs": [],
   "source": [
    "'''Peak 1'''\n",
    "@F.udf(returnType=BooleanType())\n",
    "def peak_1(hour):\n",
    "    valid_period = [9,10,11]\n",
    "    inside_peak = hour in valid_period\n",
    "    return inside_peak\n",
    "\n",
    "df_peak_1 = df_segments.filter(peak_1('dateTime'))"
   ]
  },
  {
   "cell_type": "code",
   "execution_count": 7,
   "id": "wrong-farmer",
   "metadata": {},
   "outputs": [
    {
     "data": {
      "text/plain": [
       "57100332"
      ]
     },
     "execution_count": 7,
     "metadata": {},
     "output_type": "execute_result"
    }
   ],
   "source": [
    "df_peak_1.count()"
   ]
  },
  {
   "cell_type": "code",
   "execution_count": 8,
   "id": "surrounded-diana",
   "metadata": {},
   "outputs": [],
   "source": [
    "'''Peak 2'''\n",
    "@F.udf(returnType=BooleanType())\n",
    "def peak_2(hour):\n",
    "    valid_period = [18,19,20]\n",
    "    inside_peak = hour in valid_period\n",
    "    return inside_peak\n",
    "\n",
    "df_peak_2 = df_segments.filter(peak_2('dateTime'))"
   ]
  },
  {
   "cell_type": "code",
   "execution_count": 9,
   "id": "compound-indonesia",
   "metadata": {},
   "outputs": [
    {
     "data": {
      "text/plain": [
       "70264520"
      ]
     },
     "execution_count": 9,
     "metadata": {},
     "output_type": "execute_result"
    }
   ],
   "source": [
    "df_peak_2.count()"
   ]
  },
  {
   "cell_type": "code",
   "execution_count": 10,
   "id": "indoor-signal",
   "metadata": {},
   "outputs": [],
   "source": [
    "'''Non-Peak'''\n",
    "@F.udf(returnType=BooleanType())\n",
    "def off_peak(hour):\n",
    "    valid_period = range(1,7)\n",
    "    inside_peak = hour in valid_period\n",
    "    return inside_peak\n",
    "\n",
    "df_off_peak = df_segments.filter(off_peak('dateTime'))"
   ]
  },
  {
   "cell_type": "code",
   "execution_count": 11,
   "id": "imported-correspondence",
   "metadata": {},
   "outputs": [
    {
     "data": {
      "text/plain": [
       "14723637"
      ]
     },
     "execution_count": 11,
     "metadata": {},
     "output_type": "execute_result"
    }
   ],
   "source": [
    "df_off_peak.count()"
   ]
  },
  {
   "cell_type": "markdown",
   "id": "rough-bridge",
   "metadata": {},
   "source": [
    "<h2>3-Creating grid tables</h2>"
   ]
  },
  {
   "cell_type": "code",
   "execution_count": 5,
   "id": "finnish-harvard",
   "metadata": {},
   "outputs": [],
   "source": [
    "schema_grid_calculations= StructType([ \n",
    "    StructField(\"cell_id\",StringType(),True), \n",
    "    StructField(\"num_segments\",IntegerType(),True), \n",
    "#     StructField(\"segmentIDs\",ArrayType(IntegerType()),True),\n",
    "    \n",
    "    StructField(\"minSpeed\",DoubleType(),True),\n",
    "    StructField(\"avgSpeed\",DoubleType(),True),\n",
    "    StructField(\"maxSpeed\",DoubleType(),True),\n",
    "    \n",
    "    StructField(\"minAccuracyDrop\",IntegerType(),True),\n",
    "    StructField(\"avgAccuracyDrop\",DoubleType(),True),\n",
    "    StructField(\"maxAccuracyDrop\",IntegerType(),True),\n",
    "  ])\n"
   ]
  },
  {
   "cell_type": "code",
   "execution_count": 6,
   "id": "seasonal-comparative",
   "metadata": {},
   "outputs": [],
   "source": [
    "@F.pandas_udf(schema_grid_calculations, functionType=F.PandasUDFType.GROUPED_MAP)\n",
    "def cell_data_calculator(df_segments):\n",
    "    os.environ[\"ARROW_PRE_0_15_IPC_FORMAT\"] = \"1\"\n",
    "    \n",
    "#     df_segments = df_segments.sort_values(by=\"dateTime\")\n",
    "    df_segments.reset_index(drop = True, inplace=True)\n",
    "    \n",
    "    df_data = pd.DataFrame()\n",
    "\n",
    "    #================================================================#\n",
    "    #============== min,avg,max calculations for SPEED ==============#\n",
    "    minSpeed = min(df_segments['segmentSpeedKmH'])\n",
    "    avgSpeed = np.mean(df_segments['segmentSpeedKmH'])\n",
    "    maxSpeed = max(df_segments['segmentSpeedKmH'])\n",
    "    #================================================================#\n",
    "    #========= min,avg,max calculations for ACCURACY DROP ===========#\n",
    "    accuracyDrops = list(df_segments['startAccuracyDrop']) + list(df_segments['endAccuracyDrop'])\n",
    "    minAccuracyDrop = min(accuracyDrops)\n",
    "    avgAccuracyDrop = np.mean(accuracyDrops)\n",
    "    maxAccuracyDrop = max(accuracyDrops)\n",
    "    #================================================================#\n",
    "    #============== writing calculated parameters in df_data ==============#\n",
    "    cell_id = df_segments['cell_id_start'][0]\n",
    "    df_data['cell_id'] = [cell_id]\n",
    "    \n",
    "    num_segments = len(df_segments)\n",
    "    df_data['num_segments'] = [num_segments]\n",
    "    df_data['num_segments'] = num_segments\n",
    "    \n",
    "    df_data['minSpeed'] = round(minSpeed,2)\n",
    "    df_data['avgSpeed'] = round(avgSpeed,2)\n",
    "    df_data['maxSpeed'] = round(maxSpeed,2)\n",
    "    \n",
    "    df_data['minAccuracyDrop'] = minAccuracyDrop\n",
    "    df_data['avgAccuracyDrop'] = round(avgAccuracyDrop,2)\n",
    "    df_data['maxAccuracyDrop'] = maxAccuracyDrop\n",
    "    \n",
    "    return df_data"
   ]
  },
  {
   "cell_type": "markdown",
   "id": "atmospheric-stack",
   "metadata": {},
   "source": [
    "<strong>Peak 1 Grid table"
   ]
  },
  {
   "cell_type": "code",
   "execution_count": 17,
   "id": "sunrise-agency",
   "metadata": {},
   "outputs": [],
   "source": [
    "df_grid_peak_1 = df_peak_1.groupby(\"cell_id_start\" or \"cell_id_end\").apply(cell_data_calculator)"
   ]
  },
  {
   "cell_type": "code",
   "execution_count": 18,
   "id": "impressive-monte",
   "metadata": {},
   "outputs": [
    {
     "data": {
      "text/plain": [
       "43216"
      ]
     },
     "execution_count": 18,
     "metadata": {},
     "output_type": "execute_result"
    }
   ],
   "source": [
    "df_grid_peak_1.count()"
   ]
  },
  {
   "cell_type": "code",
   "execution_count": 19,
   "id": "healthy-nickname",
   "metadata": {},
   "outputs": [],
   "source": [
    "df_grid_peak_1.toPandas().to_csv('grids/grid_table_peak_1.csv',index = False)"
   ]
  },
  {
   "cell_type": "markdown",
   "id": "accessory-weekly",
   "metadata": {},
   "source": [
    "<strong>Peak 2 Grid table"
   ]
  },
  {
   "cell_type": "code",
   "execution_count": 20,
   "id": "experimental-copper",
   "metadata": {},
   "outputs": [],
   "source": [
    "df_grid_peak_2 = df_peak_2.groupby(\"cell_id_start\" or \"cell_id_end\").apply(cell_data_calculator)"
   ]
  },
  {
   "cell_type": "code",
   "execution_count": 21,
   "id": "going-charles",
   "metadata": {},
   "outputs": [
    {
     "data": {
      "text/plain": [
       "41595"
      ]
     },
     "execution_count": 21,
     "metadata": {},
     "output_type": "execute_result"
    }
   ],
   "source": [
    "df_grid_peak_2.count()"
   ]
  },
  {
   "cell_type": "code",
   "execution_count": 22,
   "id": "cardiovascular-press",
   "metadata": {},
   "outputs": [],
   "source": [
    "df_grid_peak_2.toPandas().to_csv('grids/grid_table_peak_2.csv',index = False)"
   ]
  },
  {
   "cell_type": "markdown",
   "id": "cardiovascular-cable",
   "metadata": {},
   "source": [
    "<strong>Off peak Grid table"
   ]
  },
  {
   "cell_type": "code",
   "execution_count": 23,
   "id": "annoying-individual",
   "metadata": {},
   "outputs": [],
   "source": [
    "df_grid_off_peak = df_off_peak.groupby(\"cell_id_start\" or \"cell_id_end\").apply(cell_data_calculator)"
   ]
  },
  {
   "cell_type": "code",
   "execution_count": 24,
   "id": "regulation-split",
   "metadata": {},
   "outputs": [
    {
     "data": {
      "text/plain": [
       "32549"
      ]
     },
     "execution_count": 24,
     "metadata": {},
     "output_type": "execute_result"
    }
   ],
   "source": [
    "df_grid_off_peak.count()"
   ]
  },
  {
   "cell_type": "code",
   "execution_count": 25,
   "id": "constant-spain",
   "metadata": {},
   "outputs": [],
   "source": [
    "df_grid_off_peak.toPandas().to_csv('grids/grid_table_off_peak.csv',index = False)"
   ]
  },
  {
   "cell_type": "markdown",
   "id": "formal-simple",
   "metadata": {},
   "source": [
    "<strong>Grid table whole"
   ]
  },
  {
   "cell_type": "code",
   "execution_count": 9,
   "id": "close-roads",
   "metadata": {},
   "outputs": [],
   "source": [
    "df_grid_whole = df_segments.groupby(\"cell_id_start\" or \"cell_id_end\").apply(cell_data_calculator)"
   ]
  },
  {
   "cell_type": "code",
   "execution_count": 10,
   "id": "conscious-domain",
   "metadata": {},
   "outputs": [
    {
     "data": {
      "text/plain": [
       "50138"
      ]
     },
     "execution_count": 10,
     "metadata": {},
     "output_type": "execute_result"
    }
   ],
   "source": [
    "df_grid_whole.count()"
   ]
  },
  {
   "cell_type": "code",
   "execution_count": 11,
   "id": "bizarre-hopkins",
   "metadata": {},
   "outputs": [],
   "source": [
    "df_grid_whole.toPandas().to_csv('grids/grid_table_whole.csv',index = False)"
   ]
  },
  {
   "cell_type": "code",
   "execution_count": null,
   "id": "potential-credits",
   "metadata": {},
   "outputs": [],
   "source": []
  }
 ],
 "metadata": {
  "kernelspec": {
   "display_name": "Python 3 (ipykernel)",
   "language": "python",
   "name": "python3"
  },
  "language_info": {
   "codemirror_mode": {
    "name": "ipython",
    "version": 3
   },
   "file_extension": ".py",
   "mimetype": "text/x-python",
   "name": "python",
   "nbconvert_exporter": "python",
   "pygments_lexer": "ipython3",
   "version": "3.8.8"
  }
 },
 "nbformat": 4,
 "nbformat_minor": 5
}
